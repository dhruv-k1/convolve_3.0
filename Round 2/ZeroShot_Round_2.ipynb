{
 "cells": [
  {
   "cell_type": "code",
   "execution_count": 4,
   "metadata": {},
   "outputs": [],
   "source": [
    "\n",
    "# ___________                     __________                   _________.__            __    #\n",
    "# \\__    ___/___ _____    _____   \\____    /___________  ____ /   _____/|  |__   _____/  |_  #\n",
    "#   |    |_/ __ \\\\__  \\  /     \\    /     // __ \\_  __ \\/  _ \\\\_____  \\ |  |  \\ /  _ \\   __\\ #\n",
    "#   |    |\\  ___/ / __ \\|  Y Y  \\  /     /\\  ___/|  | \\(  <_> )        \\|   Y  (  <_> )  |   #\n",
    "#   |____| \\___  >____  /__|_|  / /_______ \\___  >__|   \\____/_______  /|___|  /\\____/|__|   #\n",
    "#              \\/     \\/      \\/          \\/   \\/                    \\/      \\/              #\n"
   ]
  },
  {
   "cell_type": "markdown",
   "metadata": {},
   "source": [
    "# 1. Importing Libraries"
   ]
  },
  {
   "cell_type": "code",
   "execution_count": 1,
   "metadata": {},
   "outputs": [],
   "source": [
    "import pandas as pd\n",
    "import numpy as np\n",
    "import matplotlib.pyplot as plt\n",
    "from sklearn.model_selection import train_test_split\n",
    "from sklearn.preprocessing import RobustScaler\n",
    "from sklearn.ensemble import RandomForestRegressor\n",
    "from xgboost import XGBRegressor\n",
    "from sklearn.model_selection import train_test_split\n",
    "from sklearn.metrics import mean_absolute_error\n",
    "from sklearn.metrics import mean_absolute_error, mean_squared_error, r2_score\n",
    "from sklearn.model_selection import train_test_split  \n",
    "from sklearn.preprocessing import RobustScaler \n",
    "from sklearn.metrics import mean_absolute_error \n",
    "import joblib"
   ]
  },
  {
   "cell_type": "markdown",
   "metadata": {},
   "source": [
    "# 2.\tData Preparation & Feature Engineering"
   ]
  },
  {
   "cell_type": "markdown",
   "metadata": {},
   "source": [
    "## 2.1 Demographics Data Preprocessing\n"
   ]
  },
  {
   "cell_type": "code",
   "execution_count": 8,
   "metadata": {},
   "outputs": [
    {
     "name": "stderr",
     "output_type": "stream",
     "text": [
      "C:\\Users\\dhruv\\AppData\\Local\\Temp\\ipykernel_30628\\588122452.py:1: DtypeWarning: Columns (7,12,13,15,16,17,18,19,29,37,45,46,47,56,58,66,69,71,74,228) have mixed types. Specify dtype option on import or set low_memory=False.\n",
      "  train_cdna = pd.read_csv(\"train_cdna_data.csv\")\n"
     ]
    }
   ],
   "source": [
    "train_cdna = pd.read_csv(\"train_cdna_data.csv\")"
   ]
  },
  {
   "cell_type": "code",
   "execution_count": 9,
   "metadata": {},
   "outputs": [],
   "source": [
    "train_cdna = train_cdna.dropna(axis=1, how='all')"
   ]
  },
  {
   "cell_type": "code",
   "execution_count": 10,
   "metadata": {},
   "outputs": [
    {
     "name": "stdout",
     "output_type": "stream",
     "text": [
      "<class 'pandas.core.frame.DataFrame'>\n",
      "RangeIndex: 1285402 entries, 0 to 1285401\n",
      "Columns: 278 entries, CUSTOMER_CODE to batch_date\n",
      "dtypes: bool(9), float64(156), int64(35), object(78)\n",
      "memory usage: 2.6+ GB\n"
     ]
    }
   ],
   "source": [
    "train_cdna.info()"
   ]
  },
  {
   "cell_type": "markdown",
   "metadata": {},
   "source": [
    "2.1.1\t Missing Value Analysis"
   ]
  },
  {
   "cell_type": "code",
   "execution_count": 11,
   "metadata": {},
   "outputs": [
    {
     "name": "stdout",
     "output_type": "stream",
     "text": [
      "Columns dropped due to >40% missing values:\n",
      "['v8', 'v12', 'v13', 'v14', 'v15', 'v16', 'v17', 'v18', 'v19', 'v20', 'v28', 'v32', 'v38', 'v42', 'v44', 'v46', 'v47', 'v48', 'v55', 'v57', 'v58', 'v59', 'v61', 'v62', 'v63', 'v64', 'v65', 'v66', 'v67', 'v68', 'v69', 'v70', 'v71', 'v72', 'v74', 'v75', 'v77', 'v79', 'v84', 'v85', 'v99', 'v103', 'v107', 'v108', 'v109', 'v110', 'v111', 'v112', 'v113', 'v114', 'v115', 'v116', 'v117', 'v118', 'v119', 'v120', 'v121', 'v122', 'v123', 'v124', 'v125', 'v126', 'v127', 'v128', 'v129', 'v130', 'v131', 'v132', 'v133', 'v134', 'v135', 'v136', 'v137', 'v138', 'v139', 'v140', 'v141', 'v142', 'v143', 'v144', 'v145', 'v146', 'v147', 'v148', 'v155', 'v156', 'v157', 'v158', 'v159', 'v160', 'v161', 'v162', 'v163', 'v164', 'v165', 'v166', 'v167', 'v168', 'v169', 'v170', 'v171', 'v172', 'v173', 'v174', 'v175', 'v176', 'v177', 'v178', 'v179', 'v180', 'v181', 'v182', 'v183', 'v184', 'v185', 'v186', 'v187', 'v188', 'v189', 'v190', 'v191', 'v192', 'v193', 'v194', 'v195', 'v196', 'v197', 'v198', 'v199', 'v200', 'v201', 'v202', 'v203', 'v204', 'v205', 'v206', 'v207', 'v208', 'v209', 'v210', 'v211', 'v212', 'v213', 'v215', 'v216', 'v217', 'v218', 'v219', 'v220', 'v222', 'v223', 'v228', 'v231', 'v232', 'v233', 'v234', 'v235', 'v236', 'v237', 'v238', 'v239', 'v240', 'v241', 'v243', 'v244', 'v252', 'v253', 'v254', 'v255', 'v256', 'v257', 'v258']\n",
      "Number of columns dropped: 172\n",
      "\n",
      "Shape of original train_cdna: (1285402, 278)\n",
      "\n",
      "Shape of original train_cdna after using inplace=True: (1285402, 106)\n"
     ]
    }
   ],
   "source": [
    "# Calculate percentage of missing values per column\n",
    "missing_percentages = (train_cdna.isna().sum() / len(train_cdna)) * 100\n",
    "\n",
    "# Identify columns to drop (more than 40% missing)\n",
    "columns_to_drop = missing_percentages[missing_percentages > 40].index\n",
    "\n",
    "\n",
    "# Print information about dropped columns (optional)\n",
    "if not columns_to_drop.empty:\n",
    "    print(\"Columns dropped due to >40% missing values:\")\n",
    "    print(columns_to_drop.tolist())\n",
    "    print(f\"Number of columns dropped: {len(columns_to_drop)}\")\n",
    "else:\n",
    "    print(\"No columns had more than 40% missing values.\")\n",
    "\n",
    "print(\"\\nShape of original train_cdna:\", train_cdna.shape)\n",
    "\n",
    "#Demonstration using inplace=True\n",
    "train_cdna.drop(columns=columns_to_drop, inplace=True)\n",
    "print(\"\\nShape of original train_cdna after using inplace=True:\", train_cdna.shape)"
   ]
  },
  {
   "cell_type": "code",
   "execution_count": 12,
   "metadata": {},
   "outputs": [
    {
     "name": "stdout",
     "output_type": "stream",
     "text": [
      "Your selected dataframe has 106 columns.\n",
      "There are 59 columns that have missing values.\n"
     ]
    }
   ],
   "source": [
    "mis_val = train_cdna.isnull().sum()\n",
    "\n",
    "    # Percentage of missing values\n",
    "mis_val_percent = 100 * train_cdna.isnull().sum() / len(train_cdna)\n",
    "\n",
    "    # Make a table with the results\n",
    "mis_val_table = pd.concat([mis_val, mis_val_percent], axis=1)\n",
    "\n",
    "    # Rename the columns\n",
    "mis_val_table_ren_columns = mis_val_table.rename(\n",
    "columns = {0 : 'Missing Values', 1 : '% of Total Values'})\n",
    "\n",
    "    # Sort the table by percentage of missing descending\n",
    "mis_val_table_ren_columns = mis_val_table_ren_columns[\n",
    "        mis_val_table_ren_columns.iloc[:,1] != 0].sort_values(\n",
    "    '% of Total Values', ascending=False).round(1)\n",
    "\n",
    "    # Print some summary information\n",
    "print (\"Your selected dataframe has \" + str(train_cdna.shape[1]) + \" columns.\\n\"      \n",
    "        \"There are \" + str(mis_val_table_ren_columns.shape[0]) +\n",
    "          \" columns that have missing values.\")"
   ]
  },
  {
   "cell_type": "markdown",
   "metadata": {},
   "source": [
    "2.1.2\t Feature Selection"
   ]
  },
  {
   "cell_type": "code",
   "execution_count": 13,
   "metadata": {},
   "outputs": [],
   "source": [
    "columns_to_extract = ['CUSTOMER_CODE', 'v2', 'v6', 'v9','v27','v29','v36','v54','v80','v81','v100','v101','v102','batch_date']\n",
    "train_demo = train_cdna[columns_to_extract]"
   ]
  },
  {
   "cell_type": "code",
   "execution_count": 14,
   "metadata": {},
   "outputs": [
    {
     "name": "stdout",
     "output_type": "stream",
     "text": [
      "Percentage of missing values per column (descending order):\n",
      "v102: 18.49%\n",
      "v29: 18.23%\n",
      "v27: 4.69%\n",
      "v80: 3.52%\n",
      "v2: 3.52%\n",
      "v54: 3.52%\n",
      "v101: 2.67%\n",
      "v9: 1.64%\n",
      "v6: 0.30%\n",
      "v81: 0.01%\n"
     ]
    }
   ],
   "source": [
    "total_rows = len(train_demo)\n",
    "missing_percentage = (train_demo.isnull().sum() / total_rows) * 100\n",
    "missing_percentage = missing_percentage[missing_percentage > 0].sort_values(ascending=False) # Only print if there are missing values\n",
    "if missing_percentage.empty:\n",
    "    print(\"No missing values found in the DataFrame.\")\n",
    "else:\n",
    "    print(\"Percentage of missing values per column (descending order):\")\n",
    "    for column, percentage in missing_percentage.items():\n",
    "        print(f\"{column}: {percentage:.2f}%\")"
   ]
  },
  {
   "cell_type": "code",
   "execution_count": 15,
   "metadata": {},
   "outputs": [
    {
     "data": {
      "image/png": "[encoded data removed]",
      "text/plain": [
       "<Figure size 800x600 with 1 Axes>"
      ]
     },
     "metadata": {},
     "output_type": "display_data"
    }
   ],
   "source": [
    "value_counts = train_demo['v102'].value_counts() / 1000\n",
    "\n",
    "# Create the histogram\n",
    "plt.figure(figsize=(8, 6))  # Adjust figure size if needed\n",
    "plt.bar(value_counts.index, value_counts.values)\n",
    "\n",
    "# Add labels and title\n",
    "plt.xlabel(\"Values in v100\")\n",
    "plt.ylabel(\"Frequency (in thousands)\")\n",
    "plt.title(\"Frequency of Values in v100\")\n",
    "\n",
    "# Add value labels on top of the bars\n",
    "for i, v in enumerate(value_counts):\n",
    "    plt.text(i, v, str(round(v, 2)), ha='center', va='bottom')"
   ]
  },
  {
   "cell_type": "code",
   "execution_count": 16,
   "metadata": {},
   "outputs": [
    {
     "name": "stderr",
     "output_type": "stream",
     "text": [
      "C:\\Users\\dhruv\\AppData\\Local\\Temp\\ipykernel_30628\\1042971726.py:1: SettingWithCopyWarning: \n",
      "A value is trying to be set on a copy of a slice from a DataFrame\n",
      "\n",
      "See the caveats in the documentation: https://pandas.pydata.org/pandas-docs/stable/user_guide/indexing.html#returning-a-view-versus-a-copy\n",
      "  train_demo.fillna(train_demo.mode().iloc[0], inplace=True)\n"
     ]
    }
   ],
   "source": [
    "train_demo.fillna(train_demo.mode().iloc[0], inplace=True)"
   ]
  },
  {
   "cell_type": "code",
   "execution_count": 17,
   "metadata": {},
   "outputs": [
    {
     "name": "stdout",
     "output_type": "stream",
     "text": [
      "No missing values found in the DataFrame.\n"
     ]
    }
   ],
   "source": [
    "total_rows = len(train_demo)\n",
    "missing_percentage = (train_demo.isnull().sum() / total_rows) * 100\n",
    "missing_percentage = missing_percentage[missing_percentage > 0].sort_values(ascending=False) # Only print if there are missing values\n",
    "if missing_percentage.empty:\n",
    "    print(\"No missing values found in the DataFrame.\")\n",
    "else:\n",
    "    print(\"Percentage of missing values per column (descending order):\")\n",
    "    for column, percentage in missing_percentage.items():\n",
    "        print(f\"{column}: {percentage:.2f}%\")"
   ]
  },
  {
   "cell_type": "code",
   "execution_count": 18,
   "metadata": {},
   "outputs": [],
   "source": [
    "columns_to_drop = ['v6', 'v9','v80']\n",
    "train_demo = train_demo.drop(columns=columns_to_drop)"
   ]
  },
  {
   "cell_type": "code",
   "execution_count": 19,
   "metadata": {},
   "outputs": [
    {
     "name": "stdout",
     "output_type": "stream",
     "text": [
      "\n",
      " Unique values in column 'v2': ['50-54' '35-39' '20-24' '30-34' '25-29' '40-44' '60-64' '45-49' '55-59'\n",
      " '65-69' '15-19' '70-74' '75-79' '0-4' '85-89' '80-84' '10-14' '5-9'\n",
      " '90-94' '95-99' '100-104' '125-129']\n",
      "\n",
      " Unique values in column 'v27': ['MARRIED' 'Married' 'Unmarried' 'UNMARRIED' 'S' 'M' 'OTHER' 'Widow'\n",
      " 'SINGLE' 'WIDOW' 'Single']\n",
      "\n",
      " Unique values in column 'v29': ['SALARIED' 'Self Employed Business' 'Salaried' 'Homemaker'\n",
      " 'SELF EMPLOYED' 'Salaried-Private' 'OTHER' 'Student'\n",
      " 'Selp employed profesional' 'Salarid-Public' 'Retired' 'Salarid-Govt'\n",
      " 'OTHERSSTUDENT' 'Self Employed' 'Self Employed Professional-Doctor'\n",
      " 'Farmer' 'CORPORATE' 'Unemployed' 'Self Employed Professional-CA'\n",
      " 'NA - Minor' 'NORMAL' 'INDIVIDUAL SELF EMPLOYED' 'INDIVIDUAL SALARIED'\n",
      " 'SALARIEDPRIVATESECTOR' 'OTHERSNOTCATEGORIZED'\n",
      " 'Self employed professional' 'STUDENT' 'Non earning individuals'\n",
      " 'Self Employed Professional-Consultant'\n",
      " 'Self Employed Professional-Architect' 'Professional'\n",
      " 'Self Employed Professional-Entertainment' 'SELFEMPLOYEDBUSINESS'\n",
      " 'AlliedAgri-Dairy' 'Allied Agri-Dairy'\n",
      " 'SELF EMPLOYED PRIORITY SECTOR LENDING'\n",
      " 'Self Employed Professional-Lawyer' 'PENSIONER'\n",
      " 'SELFEMPLOYEDPROFESSIONAL' 'Retd. Pensioner' 'AlliedAgri-Goat'\n",
      " 'SALARIEDPUBLICSECTOR' 'GROUP COMPANY EMPLOYEE' 'PROFESSIONAL'\n",
      " 'HOUSE WIFE' 'Service-Trader' 'SelfEmployed  Non-Agri - Service Provider'\n",
      " 'SELF EMPLOYED BUSINESS' 'SALARIEDGOVERNMENTSECTOR' 'House Wife'\n",
      " 'NON-INDIVIDUAL' 'OTHERS' 'Labour-OtherLabour' 'Salaried-Public'\n",
      " 'Salaried-Govt' 'Self Employed Professional-Beautician'\n",
      " 'Agri-Marginal Farmer up to 2.5 Acre' 'AlliedAgri-Fishery'\n",
      " 'INDIVIDUAL OTHERS' 'Company labour'\n",
      " 'Agri-Marginal Farmer (up to 2.5 Acre)'\n",
      " 'Self Employed Professional-Alternate Medical Pract'\n",
      " 'Salaried  Non-Agri - Private Employee' 'Self employed Non Professional'\n",
      " 'Cloth Sales' 'OTHERSHOUSEWIFE' 'Agri-Small Farmer 2.5-5 Acre'\n",
      " 'AlliedAgri-Others' 'Self employed Specified (Shroff, Money Lender, Sto'\n",
      " 'HOMEMAKER' 'Salaried-Others' 'Coconut Sales'\n",
      " 'SELF EMPLOYED - NON PROFESSIONAL' 'TW' 'Foodbeverage-DhabaOrTea Stall'\n",
      " 'Tailor' 'Labour-Other  Labour' 'Foodbeverage-FruitOrVegetableVendor'\n",
      " 'Labour-AgriLabour' 'Landless Labour'\n",
      " 'SELF EMPLOYED  NON PRIORITY SECTOR LENDING' 'SELFEMP'\n",
      " 'Agri-Small Farmer (2.5-5 Acre)' 'AlliedAgri-Poultry'\n",
      " 'SelfEmployed  Agri - DairyAnimal Husbandry' 'AlliedAgri-Sheep' 'Hotel'\n",
      " 'Salaried - Govt' 'EMP' 'Service-TransportOperator' 'Daily Labour' 'CD'\n",
      " 'TVS' 'Politician' 'Service-Tailor' 'RETIRED' 'FARMER' 'EMPLOYEE'\n",
      " 'SD/MBO']\n",
      "\n",
      " Unique values in column 'v36': ['MDM' 'MDM_CORP' 'FINNONE' 'CUSTOMER']\n",
      "\n",
      " Unique values in column 'v54': ['MALE' 'Male' 'Female' 'FEMALE' 'M' 'F' 'C' 'THIRD GENDER' 'OTHERS' 'U'\n",
      " 'O']\n",
      "\n",
      " Unique values in column 'v81': ['N' 'Y']\n",
      "\n",
      " Unique values in column 'v100': [1 3 2 4]\n",
      "\n",
      " Unique values in column 'v101': ['Tier 1' 'Tier 5' 'Tier 6' 'Tier 2' 'Tier 7' 'Tier 8' 'Tier 3' 'Tier 4'\n",
      " 'Rural']\n",
      "\n",
      " Unique values in column 'v102': ['Salaried' 'Self_Employed' 'Homemaker' 'Other' 'Student' 'Retired'\n",
      " 'Unemployed' 'Minor']\n"
     ]
    }
   ],
   "source": [
    "for col_name in train_demo.columns[1:-1]:  # Iterate from the second to the second-to-last column\n",
    "        unique_values = train_demo[col_name].unique()\n",
    "        print(f\"\\n Unique values in column '{col_name}': {unique_values}\")"
   ]
  },
  {
   "cell_type": "markdown",
   "metadata": {},
   "source": [
    "Cleaning v54"
   ]
  },
  {
   "cell_type": "code",
   "execution_count": 20,
   "metadata": {},
   "outputs": [
    {
     "name": "stdout",
     "output_type": "stream",
     "text": [
      "v54\n",
      "Male            39.725860\n",
      "MALE            33.549816\n",
      "Female          10.636672\n",
      "M                9.318097\n",
      "FEMALE           5.733693\n",
      "F                1.016491\n",
      "C                0.009336\n",
      "THIRD GENDER     0.005913\n",
      "OTHERS           0.002256\n",
      "U                0.001400\n",
      "O                0.000467\n",
      "Name: proportion, dtype: float64\n"
     ]
    }
   ],
   "source": [
    "# Calculate percentage counts\n",
    "percent_counts = train_demo['v54'].value_counts(normalize=True) * 100\n",
    "\n",
    "# Print the percentages\n",
    "print(percent_counts)"
   ]
  },
  {
   "cell_type": "code",
   "execution_count": 21,
   "metadata": {},
   "outputs": [
    {
     "name": "stdout",
     "output_type": "stream",
     "text": [
      "v54\n",
      "male            82.593772\n",
      "female          17.386856\n",
      "c                0.009336\n",
      "third gender     0.005913\n",
      "others           0.002256\n",
      "u                0.001400\n",
      "o                0.000467\n",
      "Name: proportion, dtype: float64\n"
     ]
    }
   ],
   "source": [
    "# Convert all values to lowercase\n",
    "train_demo['v54'] = train_demo['v54'].str.lower()\n",
    "\n",
    "# Replace values starting with \"salary\" with \"salaried\"\n",
    "train_demo['v54'] = train_demo['v54'].replace(r'^m.*', 'male', regex=True)\n",
    "\n",
    "# Replace values starting with \"sel..\" with \"self employed\"\n",
    "train_demo['v54'] = train_demo['v54'].replace(r'^f.*', 'female', regex=True)\n",
    "\n",
    "# Merge values with the same names (already handled by string operations)\n",
    "# Optional: Re-calculate value counts to verify\n",
    "pct_count = train_demo['v54'].value_counts(normalize=True)*100\n",
    "\n",
    "# Print the updated value counts\n",
    "print(pct_count)"
   ]
  },
  {
   "cell_type": "code",
   "execution_count": 22,
   "metadata": {},
   "outputs": [
    {
     "name": "stdout",
     "output_type": "stream",
     "text": [
      "v54\n",
      "male      82.593772\n",
      "female    17.386856\n",
      "other      0.019371\n",
      "Name: proportion, dtype: float64\n"
     ]
    }
   ],
   "source": [
    "keep_values = ['male', 'female']\n",
    "\n",
    "# Replace all other values with 'other'\n",
    "train_demo['v54'] = train_demo['v54'].apply(lambda x: x if x in keep_values else 'other')\n",
    "\n",
    "# Verify the changes by checking the updated value counts\n",
    "pct_counts = train_demo['v54'].value_counts(normalize=True)*100\n",
    "print(pct_counts)"
   ]
  },
  {
   "cell_type": "markdown",
   "metadata": {},
   "source": [
    "Cleaning v27"
   ]
  },
  {
   "cell_type": "code",
   "execution_count": 23,
   "metadata": {},
   "outputs": [
    {
     "name": "stdout",
     "output_type": "stream",
     "text": [
      "v27\n",
      "Unmarried    36.515892\n",
      "MARRIED      28.792627\n",
      "Married      15.018803\n",
      "UNMARRIED    11.365316\n",
      "M             7.247538\n",
      "S             1.057568\n",
      "OTHER         0.000934\n",
      "SINGLE        0.000622\n",
      "Single        0.000389\n",
      "WIDOW         0.000233\n",
      "Widow         0.000078\n",
      "Name: proportion, dtype: float64\n"
     ]
    }
   ],
   "source": [
    "# Calculate percentage counts\n",
    "percent_counts = train_demo['v27'].value_counts(normalize=True) * 100\n",
    "\n",
    "# Print the percentages\n",
    "print(percent_counts)"
   ]
  },
  {
   "cell_type": "code",
   "execution_count": 24,
   "metadata": {},
   "outputs": [
    {
     "name": "stdout",
     "output_type": "stream",
     "text": [
      "v27\n",
      "married      51.058968\n",
      "unmarried    47.881208\n",
      "single        1.058579\n",
      "other         0.000934\n",
      "widow         0.000311\n",
      "Name: proportion, dtype: float64\n"
     ]
    }
   ],
   "source": [
    "# Convert all values to lowercase\n",
    "train_demo['v27'] = train_demo['v27'].str.lower()\n",
    "\n",
    "# Replace values starting with \"salary\" with \"salaried\"\n",
    "train_demo['v27'] = train_demo['v27'].replace(r'^m.*', 'married', regex=True)\n",
    "\n",
    "# Replace values starting with \"sel..\" with \"self employed\"\n",
    "train_demo['v27'] = train_demo['v27'].replace(r'^s.*', 'single', regex=True)\n",
    "\n",
    "# Merge values with the same names (already handled by string operations)\n",
    "# Optional: Re-calculate value counts to verify\n",
    "pct_count = train_demo['v27'].value_counts(normalize=True)*100\n",
    "\n",
    "# Print the updated value counts\n",
    "print(pct_count)"
   ]
  },
  {
   "cell_type": "markdown",
   "metadata": {},
   "source": [
    "Cleaning v29"
   ]
  },
  {
   "cell_type": "code",
   "execution_count": 25,
   "metadata": {},
   "outputs": [
    {
     "name": "stdout",
     "output_type": "stream",
     "text": [
      "v29\n",
      "salaried                                 64.340494\n",
      "self employed                            23.975223\n",
      "homemaker                                 3.183518\n",
      "other                                     2.834522\n",
      "student                                   2.179240\n",
      "retired                                   1.293136\n",
      "farmer                                    0.934960\n",
      "professional                              0.294694\n",
      "na - minor                                0.269954\n",
      "normal                                    0.197526\n",
      "individual salaried                       0.165551\n",
      "unemployed                                0.090789\n",
      "corporate                                 0.057414\n",
      "individual self employed                  0.056325\n",
      "retd. pensioner                           0.030107\n",
      "house wife                                0.011825\n",
      "pensioner                                 0.010269\n",
      "others                                    0.010191\n",
      "group company employee                    0.008480\n",
      "non-individual                            0.007935\n",
      "service-trader                            0.005601\n",
      "othersstudent                             0.004201\n",
      "alliedagri-dairy                          0.003734\n",
      "othershousewife                           0.003267\n",
      "allied agri-dairy                         0.002412\n",
      "alliedagri-goat                           0.002334\n",
      "labour-otherlabour                        0.002334\n",
      "othersnotcategorized                      0.001867\n",
      "tailor                                    0.001867\n",
      "agri-marginal farmer (up to 2.5 acre)     0.001867\n",
      "individual others                         0.001867\n",
      "labour-agrilabour                         0.001400\n",
      "emp                                       0.001323\n",
      "agri-marginal farmer up to 2.5 acre       0.001011\n",
      "daily labour                              0.000934\n",
      "agri-small farmer (2.5-5 acre)            0.000934\n",
      "foodbeverage-fruitorvegetablevendor       0.000934\n",
      "alliedagri-sheep                          0.000934\n",
      "agri-small farmer 2.5-5 acre              0.000934\n",
      "politician                                0.000778\n",
      "non earning individuals                   0.000467\n",
      "cloth sales                               0.000467\n",
      "hotel                                     0.000467\n",
      "alliedagri-poultry                        0.000467\n",
      "tw                                        0.000467\n",
      "coconut sales                             0.000467\n",
      "alliedagri-others                         0.000467\n",
      "alliedagri-fishery                        0.000467\n",
      "company labour                            0.000467\n",
      "landless labour                           0.000467\n",
      "employee                                  0.000467\n",
      "sd/mbo                                    0.000467\n",
      "service-tailor                            0.000467\n",
      "service-transportoperator                 0.000467\n",
      "labour-other  labour                      0.000311\n",
      "foodbeverage-dhabaortea stall             0.000233\n",
      "tvs                                       0.000156\n",
      "cd                                        0.000078\n",
      "Name: proportion, dtype: float64\n"
     ]
    }
   ],
   "source": [
    "# Convert all values to lowercase\n",
    "train_demo['v29'] = train_demo['v29'].str.lower()\n",
    "\n",
    "# Replace values starting with \"salary\" with \"salaried\"\n",
    "train_demo['v29'] = train_demo['v29'].replace(r'^sala.*', 'salaried', regex=True)\n",
    "\n",
    "# Replace values starting with \"sel..\" with \"self employed\"\n",
    "train_demo['v29'] = train_demo['v29'].replace(r'^sel.*', 'self employed', regex=True)\n",
    "\n",
    "# Merge values with the same names (already handled by string operations)\n",
    "# Optional: Re-calculate value counts to verify\n",
    "pct_count = train_demo['v29'].value_counts(normalize=True)*100\n",
    "\n",
    "# Print the updated value counts\n",
    "print(pct_count)"
   ]
  },
  {
   "cell_type": "code",
   "execution_count": 26,
   "metadata": {},
   "outputs": [
    {
     "name": "stdout",
     "output_type": "stream",
     "text": [
      "v29\n",
      "salaried         64.340494\n",
      "self employed    23.975223\n",
      "other             4.937599\n",
      "homemaker         3.183518\n",
      "student           2.179240\n",
      "retired           1.293136\n",
      "unemployed        0.090789\n",
      "Name: proportion, dtype: float64\n"
     ]
    }
   ],
   "source": [
    "keep_values = ['salaried', 'unemployed','self employed','homemaker','student','retired']\n",
    "\n",
    "# Replace all other values with 'other'\n",
    "train_demo['v29'] = train_demo['v29'].apply(lambda x: x if x in keep_values else 'other')\n",
    "\n",
    "# Verify the changes by checking the updated value counts\n",
    "pct_counts = train_demo['v29'].value_counts(normalize=True)*100\n",
    "print(pct_counts)"
   ]
  },
  {
   "cell_type": "markdown",
   "metadata": {},
   "source": [
    "Final Check"
   ]
  },
  {
   "cell_type": "code",
   "execution_count": 27,
   "metadata": {},
   "outputs": [
    {
     "name": "stdout",
     "output_type": "stream",
     "text": [
      "\n",
      " Unique values in column 'v2': ['50-54' '35-39' '20-24' '30-34' '25-29' '40-44' '60-64' '45-49' '55-59'\n",
      " '65-69' '15-19' '70-74' '75-79' '0-4' '85-89' '80-84' '10-14' '5-9'\n",
      " '90-94' '95-99' '100-104' '125-129']\n",
      "\n",
      " Unique values in column 'v27': ['married' 'unmarried' 'single' 'other' 'widow']\n",
      "\n",
      " Unique values in column 'v29': ['salaried' 'self employed' 'homemaker' 'other' 'student' 'retired'\n",
      " 'unemployed']\n",
      "\n",
      " Unique values in column 'v36': ['MDM' 'MDM_CORP' 'FINNONE' 'CUSTOMER']\n",
      "\n",
      " Unique values in column 'v54': ['male' 'female' 'other']\n",
      "\n",
      " Unique values in column 'v81': ['N' 'Y']\n",
      "\n",
      " Unique values in column 'v100': [1 3 2 4]\n",
      "\n",
      " Unique values in column 'v101': ['Tier 1' 'Tier 5' 'Tier 6' 'Tier 2' 'Tier 7' 'Tier 8' 'Tier 3' 'Tier 4'\n",
      " 'Rural']\n",
      "\n",
      " Unique values in column 'v102': ['Salaried' 'Self_Employed' 'Homemaker' 'Other' 'Student' 'Retired'\n",
      " 'Unemployed' 'Minor']\n"
     ]
    }
   ],
   "source": [
    "for col_name in train_demo.columns[1:-1]:  # Iterate from the second to the second-to-last column\n",
    "        unique_values = train_demo[col_name].unique()\n",
    "        print(f\"\\n Unique values in column '{col_name}': {unique_values}\")"
   ]
  },
  {
   "cell_type": "markdown",
   "metadata": {},
   "source": [
    "2.1.3   One Hot Encoding"
   ]
  },
  {
   "cell_type": "code",
   "execution_count": 28,
   "metadata": {},
   "outputs": [],
   "source": [
    "train_demo_encoded = pd.get_dummies(train_demo, columns=['v2', 'v27','v29', 'v36', 'v54', 'v81', 'v100', 'v101', 'v102'], prefix_sep='_')"
   ]
  },
  {
   "cell_type": "code",
   "execution_count": 29,
   "metadata": {},
   "outputs": [
    {
     "data": {
      "text/html": [
       "<div>\n",
       "<style scoped>\n",
       "    .dataframe tbody tr th:only-of-type {\n",
       "        vertical-align: middle;\n",
       "    }\n",
       "\n",
       "    .dataframe tbody tr th {\n",
       "        vertical-align: top;\n",
       "    }\n",
       "\n",
       "    .dataframe thead th {\n",
       "        text-align: right;\n",
       "    }\n",
       "</style>\n",
       "<table border=\"1\" class=\"dataframe\">\n",
       "  <thead>\n",
       "    <tr style=\"text-align: right;\">\n",
       "      <th></th>\n",
       "      <th>CUSTOMER_CODE</th>\n",
       "      <th>batch_date</th>\n",
       "      <th>v2_0-4</th>\n",
       "      <th>v2_10-14</th>\n",
       "      <th>v2_100-104</th>\n",
       "      <th>v2_125-129</th>\n",
       "      <th>v2_15-19</th>\n",
       "      <th>v2_20-24</th>\n",
       "      <th>v2_25-29</th>\n",
       "      <th>v2_30-34</th>\n",
       "      <th>...</th>\n",
       "      <th>v101_Tier 7</th>\n",
       "      <th>v101_Tier 8</th>\n",
       "      <th>v102_Homemaker</th>\n",
       "      <th>v102_Minor</th>\n",
       "      <th>v102_Other</th>\n",
       "      <th>v102_Retired</th>\n",
       "      <th>v102_Salaried</th>\n",
       "      <th>v102_Self_Employed</th>\n",
       "      <th>v102_Student</th>\n",
       "      <th>v102_Unemployed</th>\n",
       "    </tr>\n",
       "  </thead>\n",
       "  <tbody>\n",
       "    <tr>\n",
       "      <th>0</th>\n",
       "      <td>ab617a6a0a8582f4aaa1aeda38fd73377cb911e6096a98...</td>\n",
       "      <td>2024-09-27</td>\n",
       "      <td>False</td>\n",
       "      <td>False</td>\n",
       "      <td>False</td>\n",
       "      <td>False</td>\n",
       "      <td>False</td>\n",
       "      <td>False</td>\n",
       "      <td>False</td>\n",
       "      <td>False</td>\n",
       "      <td>...</td>\n",
       "      <td>False</td>\n",
       "      <td>False</td>\n",
       "      <td>False</td>\n",
       "      <td>False</td>\n",
       "      <td>False</td>\n",
       "      <td>False</td>\n",
       "      <td>True</td>\n",
       "      <td>False</td>\n",
       "      <td>False</td>\n",
       "      <td>False</td>\n",
       "    </tr>\n",
       "    <tr>\n",
       "      <th>1</th>\n",
       "      <td>6e8e3227297409f3f33578400302825263cadc2ed0d1a0...</td>\n",
       "      <td>2024-09-27</td>\n",
       "      <td>False</td>\n",
       "      <td>False</td>\n",
       "      <td>False</td>\n",
       "      <td>False</td>\n",
       "      <td>False</td>\n",
       "      <td>False</td>\n",
       "      <td>False</td>\n",
       "      <td>False</td>\n",
       "      <td>...</td>\n",
       "      <td>False</td>\n",
       "      <td>False</td>\n",
       "      <td>False</td>\n",
       "      <td>False</td>\n",
       "      <td>False</td>\n",
       "      <td>False</td>\n",
       "      <td>False</td>\n",
       "      <td>True</td>\n",
       "      <td>False</td>\n",
       "      <td>False</td>\n",
       "    </tr>\n",
       "    <tr>\n",
       "      <th>2</th>\n",
       "      <td>1b42f270aba756b64d7ae4e2409313097b0c91f7c2f2c7...</td>\n",
       "      <td>2024-09-27</td>\n",
       "      <td>False</td>\n",
       "      <td>False</td>\n",
       "      <td>False</td>\n",
       "      <td>False</td>\n",
       "      <td>False</td>\n",
       "      <td>True</td>\n",
       "      <td>False</td>\n",
       "      <td>False</td>\n",
       "      <td>...</td>\n",
       "      <td>False</td>\n",
       "      <td>False</td>\n",
       "      <td>False</td>\n",
       "      <td>False</td>\n",
       "      <td>False</td>\n",
       "      <td>False</td>\n",
       "      <td>True</td>\n",
       "      <td>False</td>\n",
       "      <td>False</td>\n",
       "      <td>False</td>\n",
       "    </tr>\n",
       "    <tr>\n",
       "      <th>3</th>\n",
       "      <td>06a4aae9b531a518260c7d0d88811cc202fd0d3e46d9ea...</td>\n",
       "      <td>2024-09-27</td>\n",
       "      <td>False</td>\n",
       "      <td>False</td>\n",
       "      <td>False</td>\n",
       "      <td>False</td>\n",
       "      <td>False</td>\n",
       "      <td>True</td>\n",
       "      <td>False</td>\n",
       "      <td>False</td>\n",
       "      <td>...</td>\n",
       "      <td>False</td>\n",
       "      <td>False</td>\n",
       "      <td>False</td>\n",
       "      <td>False</td>\n",
       "      <td>False</td>\n",
       "      <td>False</td>\n",
       "      <td>True</td>\n",
       "      <td>False</td>\n",
       "      <td>False</td>\n",
       "      <td>False</td>\n",
       "    </tr>\n",
       "    <tr>\n",
       "      <th>4</th>\n",
       "      <td>0e4fa92b7a41dc019c9f40457e180e94ca60d0b5c7128e...</td>\n",
       "      <td>2024-09-27</td>\n",
       "      <td>False</td>\n",
       "      <td>False</td>\n",
       "      <td>False</td>\n",
       "      <td>False</td>\n",
       "      <td>False</td>\n",
       "      <td>False</td>\n",
       "      <td>False</td>\n",
       "      <td>True</td>\n",
       "      <td>...</td>\n",
       "      <td>False</td>\n",
       "      <td>False</td>\n",
       "      <td>True</td>\n",
       "      <td>False</td>\n",
       "      <td>False</td>\n",
       "      <td>False</td>\n",
       "      <td>False</td>\n",
       "      <td>False</td>\n",
       "      <td>False</td>\n",
       "      <td>False</td>\n",
       "    </tr>\n",
       "  </tbody>\n",
       "</table>\n",
       "<p>5 rows × 66 columns</p>\n",
       "</div>"
      ],
      "text/plain": [
       "                                       CUSTOMER_CODE  batch_date  v2_0-4  \\\n",
       "0  ab617a6a0a8582f4aaa1aeda38fd73377cb911e6096a98...  2024-09-27   False   \n",
       "1  6e8e3227297409f3f33578400302825263cadc2ed0d1a0...  2024-09-27   False   \n",
       "2  1b42f270aba756b64d7ae4e2409313097b0c91f7c2f2c7...  2024-09-27   False   \n",
       "3  06a4aae9b531a518260c7d0d88811cc202fd0d3e46d9ea...  2024-09-27   False   \n",
       "4  0e4fa92b7a41dc019c9f40457e180e94ca60d0b5c7128e...  2024-09-27   False   \n",
       "\n",
       "   v2_10-14  v2_100-104  v2_125-129  v2_15-19  v2_20-24  v2_25-29  v2_30-34  \\\n",
       "0     False       False       False     False     False     False     False   \n",
       "1     False       False       False     False     False     False     False   \n",
       "2     False       False       False     False      True     False     False   \n",
       "3     False       False       False     False      True     False     False   \n",
       "4     False       False       False     False     False     False      True   \n",
       "\n",
       "   ...  v101_Tier 7  v101_Tier 8  v102_Homemaker  v102_Minor  v102_Other  \\\n",
       "0  ...        False        False           False       False       False   \n",
       "1  ...        False        False           False       False       False   \n",
       "2  ...        False        False           False       False       False   \n",
       "3  ...        False        False           False       False       False   \n",
       "4  ...        False        False            True       False       False   \n",
       "\n",
       "   v102_Retired  v102_Salaried  v102_Self_Employed  v102_Student  \\\n",
       "0         False           True               False         False   \n",
       "1         False          False                True         False   \n",
       "2         False           True               False         False   \n",
       "3         False           True               False         False   \n",
       "4         False          False               False         False   \n",
       "\n",
       "   v102_Unemployed  \n",
       "0            False  \n",
       "1            False  \n",
       "2            False  \n",
       "3            False  \n",
       "4            False  \n",
       "\n",
       "[5 rows x 66 columns]"
      ]
     },
     "execution_count": 29,
     "metadata": {},
     "output_type": "execute_result"
    }
   ],
   "source": [
    "train_demo_encoded.head()"
   ]
  },
  {
   "cell_type": "code",
   "execution_count": 30,
   "metadata": {},
   "outputs": [],
   "source": [
    "train_demo_encoded = train_demo_encoded * 1"
   ]
  },
  {
   "cell_type": "code",
   "execution_count": 31,
   "metadata": {},
   "outputs": [
    {
     "name": "stdout",
     "output_type": "stream",
     "text": [
      "<class 'pandas.core.frame.DataFrame'>\n",
      "RangeIndex: 1285402 entries, 0 to 1285401\n",
      "Data columns (total 66 columns):\n",
      " #   Column              Non-Null Count    Dtype \n",
      "---  ------              --------------    ----- \n",
      " 0   CUSTOMER_CODE       1285402 non-null  object\n",
      " 1   batch_date          1285402 non-null  object\n",
      " 2   v2_0-4              1285402 non-null  int64 \n",
      " 3   v2_10-14            1285402 non-null  int64 \n",
      " 4   v2_100-104          1285402 non-null  int64 \n",
      " 5   v2_125-129          1285402 non-null  int64 \n",
      " 6   v2_15-19            1285402 non-null  int64 \n",
      " 7   v2_20-24            1285402 non-null  int64 \n",
      " 8   v2_25-29            1285402 non-null  int64 \n",
      " 9   v2_30-34            1285402 non-null  int64 \n",
      " 10  v2_35-39            1285402 non-null  int64 \n",
      " 11  v2_40-44            1285402 non-null  int64 \n",
      " 12  v2_45-49            1285402 non-null  int64 \n",
      " 13  v2_5-9              1285402 non-null  int64 \n",
      " 14  v2_50-54            1285402 non-null  int64 \n",
      " 15  v2_55-59            1285402 non-null  int64 \n",
      " 16  v2_60-64            1285402 non-null  int64 \n",
      " 17  v2_65-69            1285402 non-null  int64 \n",
      " 18  v2_70-74            1285402 non-null  int64 \n",
      " 19  v2_75-79            1285402 non-null  int64 \n",
      " 20  v2_80-84            1285402 non-null  int64 \n",
      " 21  v2_85-89            1285402 non-null  int64 \n",
      " 22  v2_90-94            1285402 non-null  int64 \n",
      " 23  v2_95-99            1285402 non-null  int64 \n",
      " 24  v27_married         1285402 non-null  int64 \n",
      " 25  v27_other           1285402 non-null  int64 \n",
      " 26  v27_single          1285402 non-null  int64 \n",
      " 27  v27_unmarried       1285402 non-null  int64 \n",
      " 28  v27_widow           1285402 non-null  int64 \n",
      " 29  v29_homemaker       1285402 non-null  int64 \n",
      " 30  v29_other           1285402 non-null  int64 \n",
      " 31  v29_retired         1285402 non-null  int64 \n",
      " 32  v29_salaried        1285402 non-null  int64 \n",
      " 33  v29_self employed   1285402 non-null  int64 \n",
      " 34  v29_student         1285402 non-null  int64 \n",
      " 35  v29_unemployed      1285402 non-null  int64 \n",
      " 36  v36_CUSTOMER        1285402 non-null  int64 \n",
      " 37  v36_FINNONE         1285402 non-null  int64 \n",
      " 38  v36_MDM             1285402 non-null  int64 \n",
      " 39  v36_MDM_CORP        1285402 non-null  int64 \n",
      " 40  v54_female          1285402 non-null  int64 \n",
      " 41  v54_male            1285402 non-null  int64 \n",
      " 42  v54_other           1285402 non-null  int64 \n",
      " 43  v81_N               1285402 non-null  int64 \n",
      " 44  v81_Y               1285402 non-null  int64 \n",
      " 45  v100_1              1285402 non-null  int64 \n",
      " 46  v100_2              1285402 non-null  int64 \n",
      " 47  v100_3              1285402 non-null  int64 \n",
      " 48  v100_4              1285402 non-null  int64 \n",
      " 49  v101_Rural          1285402 non-null  int64 \n",
      " 50  v101_Tier 1         1285402 non-null  int64 \n",
      " 51  v101_Tier 2         1285402 non-null  int64 \n",
      " 52  v101_Tier 3         1285402 non-null  int64 \n",
      " 53  v101_Tier 4         1285402 non-null  int64 \n",
      " 54  v101_Tier 5         1285402 non-null  int64 \n",
      " 55  v101_Tier 6         1285402 non-null  int64 \n",
      " 56  v101_Tier 7         1285402 non-null  int64 \n",
      " 57  v101_Tier 8         1285402 non-null  int64 \n",
      " 58  v102_Homemaker      1285402 non-null  int64 \n",
      " 59  v102_Minor          1285402 non-null  int64 \n",
      " 60  v102_Other          1285402 non-null  int64 \n",
      " 61  v102_Retired        1285402 non-null  int64 \n",
      " 62  v102_Salaried       1285402 non-null  int64 \n",
      " 63  v102_Self_Employed  1285402 non-null  int64 \n",
      " 64  v102_Student        1285402 non-null  int64 \n",
      " 65  v102_Unemployed     1285402 non-null  int64 \n",
      "dtypes: int64(64), object(2)\n",
      "memory usage: 647.3+ MB\n"
     ]
    }
   ],
   "source": [
    "train_demo_encoded.info()"
   ]
  },
  {
   "cell_type": "markdown",
   "metadata": {},
   "source": []
  },
  {
   "cell_type": "markdown",
   "metadata": {},
   "source": [
    "## 2.2 Action History Data Preprocessing"
   ]
  },
  {
   "cell_type": "code",
   "execution_count": null,
   "metadata": {},
   "outputs": [],
   "source": [
    "train_action_history = pd.read_csv('train_action_history.csv')"
   ]
  },
  {
   "cell_type": "markdown",
   "metadata": {},
   "source": [
    "2.2.1\t Slot Creation\n"
   ]
  },
  {
   "cell_type": "code",
   "execution_count": null,
   "metadata": {},
   "outputs": [],
   "source": [
    "def add_time_slots_vectorized(df):\n",
    "    \"\"\"\n",
    "    Converts send_timestamp and open_timestamp to time slots (1-28) in a vectorized way.\n",
    "    - Time slots: 3-hour windows from 9AM to 9PM daily (4 slots/day × 7 days = 28 slots).\n",
    "    - Slots outside 9AM-9PM are set to `None`.\n",
    "    \"\"\"\n",
    "    for col in ['send_timestamp', 'open_timestamp']:\n",
    "        if col not in df.columns:\n",
    "            continue\n",
    "        \n",
    "        dt_series = pd.to_datetime(df[col], errors='coerce', utc=True)\n",
    "        day_of_week = dt_series.dt.dayofweek  \n",
    "        total_minutes = dt_series.dt.hour * 60 + dt_series.dt.minute\n",
    "        valid_mask = (total_minutes >= 540) & (total_minutes < 1260)  \n",
    "        slot_in_day = ((total_minutes - 540) // 180).astype('Int64')  \n",
    "        slot_number = (day_of_week * 4 + slot_in_day + 1).where(valid_mask, pd.NA) \n",
    "        \n",
    "        df[f'{col}_slot'] = slot_number.astype('Int64')  \n",
    "    \n",
    "    return df"
   ]
  },
  {
   "cell_type": "markdown",
   "metadata": {},
   "source": [
    "2.2.2\tOffer ID and Sub-ID Frequency Encoding\n"
   ]
  },
  {
   "cell_type": "code",
   "execution_count": null,
   "metadata": {},
   "outputs": [],
   "source": [
    "def encode_open_ratio_with_slot(df, feature_name, slot_column='send_slot'):\n",
    "    \"\"\"\n",
    "    Encodes a feature (e.g., Offer_id) with: (open_ratio) × (slot_number).\n",
    "    \n",
    "    Parameters:\n",
    "    - df: DataFrame containing the data.\n",
    "    - feature_name: Name of the feature to encode (e.g., 'Offer_id').\n",
    "    - slot_column: Name of the column containing slot numbers (e.g., 'send_slot').\n",
    "    \n",
    "    Returns:\n",
    "    - Series with encoded values.\n",
    "    \"\"\"\n",
    "    df['is_opened'] = df['open_timestamp_slot'].notna().astype(int)\n",
    "    open_ratio = df.groupby(feature_name)['is_opened'].transform('mean')\n",
    "    encoded_value = open_ratio * df[slot_column]\n",
    "    df.drop('is_opened', axis=1, inplace=True)\n",
    "    \n",
    "    return encoded_value\n",
    "\n"
   ]
  },
  {
   "cell_type": "code",
   "execution_count": null,
   "metadata": {},
   "outputs": [],
   "source": [
    "df_train_slots = add_time_slots_vectorized(train_action_history)\n",
    "df_train_slots.drop(columns=['batch_id'], inplace=True)\n",
    "df_train_slots.head()"
   ]
  },
  {
   "cell_type": "code",
   "execution_count": null,
   "metadata": {},
   "outputs": [],
   "source": [
    "Offer_id = encode_open_ratio_with_slot(df_train_slots, 'Offer_id', 'send_timestamp_slot')\n",
    "Offer_subid = encode_open_ratio_with_slot(df_train_slots, 'Offer_subid', 'send_timestamp_slot')\n",
    "df_train_slots['Offer_id'] = Offer_id\n",
    "df_train_slots['Offer_subid'] = Offer_subid"
   ]
  },
  {
   "cell_type": "code",
   "execution_count": null,
   "metadata": {},
   "outputs": [],
   "source": [
    "df_train_removed = df_train_slots[df_train_slots['customer_code'].isin(train_demo_encoded['CUSTOMER_CODE'])]\n",
    "df_train_removed['send_timestamp_slot'].hist(bins=50)\n",
    "value_counts = df_train_removed['send_timestamp_slot'].value_counts(normalize=True) * 100\n",
    "print(value_counts)"
   ]
  },
  {
   "cell_type": "markdown",
   "metadata": {},
   "source": [
    "2.2.3  Sampling Methadology"
   ]
  },
  {
   "cell_type": "code",
   "execution_count": 33,
   "metadata": {},
   "outputs": [
    {
     "name": "stdout",
     "output_type": "stream",
     "text": [
      "Class 18: Opened/Sent = 120832/469343 = 0.26\n",
      "Class 10: Opened/Sent = 114784/458283 = 0.25\n",
      "Class 14: Opened/Sent = 114298/440710 = 0.26\n",
      "Class 23: Opened/Sent = 100699/433764 = 0.23\n",
      "Class 19: Opened/Sent = 99646/432173 = 0.23\n",
      "Class 11: Opened/Sent = 98334/422314 = 0.23\n",
      "Class 21: Opened/Sent = 95481/403548 = 0.24\n",
      "Class 22: Opened/Sent = 95725/384060 = 0.25\n",
      "Class 13: Opened/Sent = 91574/378495 = 0.24\n",
      "Class 15: Opened/Sent = 81718/375423 = 0.22\n",
      "Class 2: Opened/Sent = 93506/355321 = 0.26\n",
      "Class 6: Opened/Sent = 89822/351989 = 0.26\n",
      "Class 26: Opened/Sent = 88525/349715 = 0.25\n",
      "Class 3: Opened/Sent = 83523/348825 = 0.24\n",
      "Class 5: Opened/Sent = 86946/346244 = 0.25\n",
      "Class 17: Opened/Sent = 86589/345755 = 0.25\n",
      "Class 7: Opened/Sent = 78849/339061 = 0.23\n",
      "Class 27: Opened/Sent = 74007/320349 = 0.23\n",
      "Class 1: Opened/Sent = 70455/290874 = 0.24\n",
      "Class 25: Opened/Sent = 66097/284834 = 0.23\n",
      "Class 9: Opened/Sent = 58511/234591 = 0.25\n",
      "Class 16: Opened/Sent = 22088/136978 = 0.16\n",
      "Class 24: Opened/Sent = 18581/99605 = 0.19\n",
      "Class 4: Opened/Sent = 19901/96181 = 0.21\n",
      "Class 20: Opened/Sent = 18146/94894 = 0.19\n",
      "Class 12: Opened/Sent = 18580/94849 = 0.20\n",
      "Class 28: Opened/Sent = 18239/91693 = 0.20\n",
      "Class 8: Opened/Sent = 17141/87557 = 0.20\n"
     ]
    }
   ],
   "source": [
    "df = df_train_removed\n",
    "\n",
    "# 1. Calculate the original sent counts for each class\n",
    "class_sent_counts = df['send_timestamp_slot'].value_counts().to_dict()\n",
    "\n",
    "# 2. Identify opened entries (drop NaN in 'open_timestamp_slot')\n",
    "df_opened = df.dropna(subset=['open_timestamp_slot']).copy()\n",
    "\n",
    "# 3. For each class, calculate how many opened entries to retain to preserve the original ratio\n",
    "final_samples = []\n",
    "for cls, sent_count in class_sent_counts.items():\n",
    "    # Get opened entries for this class\n",
    "    cls_opened = df_opened[df_opened['send_timestamp_slot'] == cls]\n",
    "    opened_count = len(cls_opened)\n",
    "    \n",
    "    # Calculate the original opened ratio for this class\n",
    "    original_opened_ratio = opened_count / sent_count  # e.g., 0.3 for 30% opened\n",
    "    \n",
    "    # Retain the same ratio of opened entries relative to the original sent count\n",
    "    # Example: If original ratio is 30%, retain 30% of the original sent count\n",
    "    desired_retained = int(sent_count * original_opened_ratio)\n",
    "    \n",
    "    # If fewer opened entries exist than desired, take all available\n",
    "    desired_retained = min(desired_retained, opened_count)\n",
    "    \n",
    "    # Sample without replacement\n",
    "    sampled = cls_opened.sample(n=desired_retained, replace=False, random_state=42)\n",
    "    final_samples.append(sampled)\n",
    "\n",
    "# Combine results into the final DataFrame\n",
    "final_df = pd.concat(final_samples)\n",
    "\n",
    "# Verify the ratios\n",
    "for cls in class_sent_counts:\n",
    "    sent = class_sent_counts[cls]\n",
    "    opened = len(final_df[final_df['send_timestamp_slot'] == cls])\n",
    "    print(f\"Class {cls}: Opened/Sent = {opened}/{sent} = {opened/sent:.2f}\")\n",
    "\n"
   ]
  },
  {
   "cell_type": "code",
   "execution_count": 34,
   "metadata": {},
   "outputs": [],
   "source": [
    "df_train_removed_sampled = final_df"
   ]
  },
  {
   "cell_type": "markdown",
   "metadata": {},
   "source": [
    "2.2.4\t One hot encoding of Product category and sub category"
   ]
  },
  {
   "cell_type": "code",
   "execution_count": 35,
   "metadata": {},
   "outputs": [],
   "source": [
    "# One-hot encode product_category and sub_category\n",
    "df_train_removed_sampled = pd.get_dummies(df_train_removed_sampled, columns=['product_category'], prefix_sep='_')\n",
    "df_train_removed_sampled = pd.get_dummies(df_train_removed_sampled, columns=['product_sub_category'], prefix_sep='_')\n",
    "\n",
    "df_train_removed_sampled = df_train_removed_sampled * 1\n",
    "\n",
    "df_train_removed_sampled_encoded = df_train_removed_sampled"
   ]
  },
  {
   "cell_type": "code",
   "execution_count": 36,
   "metadata": {},
   "outputs": [
    {
     "data": {
      "text/html": [
       "<div>\n",
       "<style scoped>\n",
       "    .dataframe tbody tr th:only-of-type {\n",
       "        vertical-align: middle;\n",
       "    }\n",
       "\n",
       "    .dataframe tbody tr th {\n",
       "        vertical-align: top;\n",
       "    }\n",
       "\n",
       "    .dataframe thead th {\n",
       "        text-align: right;\n",
       "    }\n",
       "</style>\n",
       "<table border=\"1\" class=\"dataframe\">\n",
       "  <thead>\n",
       "    <tr style=\"text-align: right;\">\n",
       "      <th></th>\n",
       "      <th>customer_code</th>\n",
       "      <th>Offer_id</th>\n",
       "      <th>Offer_subid</th>\n",
       "      <th>send_timestamp</th>\n",
       "      <th>open_timestamp</th>\n",
       "      <th>send_timestamp_slot</th>\n",
       "      <th>open_timestamp_slot</th>\n",
       "      <th>product_category_ASSETS</th>\n",
       "      <th>product_category_CC_ACQ_SECURED</th>\n",
       "      <th>product_category_CC_ACQ_UNSECURED</th>\n",
       "      <th>...</th>\n",
       "      <th>product_sub_category_SWYP_ACQ</th>\n",
       "      <th>product_sub_category_SWYP_UPGRADE</th>\n",
       "      <th>product_sub_category_TACTICAL</th>\n",
       "      <th>product_sub_category_TOPICAL</th>\n",
       "      <th>product_sub_category_TURBO-SA XSELL</th>\n",
       "      <th>product_sub_category_UNSECURED_ACQ</th>\n",
       "      <th>product_sub_category_UPI</th>\n",
       "      <th>product_sub_category_VISTARA_ACQ</th>\n",
       "      <th>product_sub_category_VISTARA_UPGRADE</th>\n",
       "      <th>product_sub_category_VKYC COMPLETION</th>\n",
       "    </tr>\n",
       "  </thead>\n",
       "  <tbody>\n",
       "    <tr>\n",
       "      <th>1580950</th>\n",
       "      <td>10a735a2f24dab28d8d4b630b518c35d7e0e5209661203...</td>\n",
       "      <td>4.183784</td>\n",
       "      <td>4.32899</td>\n",
       "      <td>2024-11-08T13:21:26.000Z</td>\n",
       "      <td>2024-11-08T14:34:20.000Z</td>\n",
       "      <td>18</td>\n",
       "      <td>18</td>\n",
       "      <td>0</td>\n",
       "      <td>0</td>\n",
       "      <td>0</td>\n",
       "      <td>...</td>\n",
       "      <td>0</td>\n",
       "      <td>0</td>\n",
       "      <td>0</td>\n",
       "      <td>0</td>\n",
       "      <td>0</td>\n",
       "      <td>0</td>\n",
       "      <td>0</td>\n",
       "      <td>0</td>\n",
       "      <td>0</td>\n",
       "      <td>0</td>\n",
       "    </tr>\n",
       "    <tr>\n",
       "      <th>7408299</th>\n",
       "      <td>fdea22ee97dc048ae6957aaa84cde1efd65d5331ff6a1b...</td>\n",
       "      <td>4.898467</td>\n",
       "      <td>5.022439</td>\n",
       "      <td>2024-08-30T12:06:39.000Z</td>\n",
       "      <td>2024-08-30T16:00:54.000Z</td>\n",
       "      <td>18</td>\n",
       "      <td>19</td>\n",
       "      <td>0</td>\n",
       "      <td>0</td>\n",
       "      <td>0</td>\n",
       "      <td>...</td>\n",
       "      <td>0</td>\n",
       "      <td>0</td>\n",
       "      <td>0</td>\n",
       "      <td>0</td>\n",
       "      <td>0</td>\n",
       "      <td>0</td>\n",
       "      <td>0</td>\n",
       "      <td>0</td>\n",
       "      <td>0</td>\n",
       "      <td>0</td>\n",
       "    </tr>\n",
       "    <tr>\n",
       "      <th>7569560</th>\n",
       "      <td>65c6ef44ffb0a527c5023f8579e5bde63cc912c21e8f3a...</td>\n",
       "      <td>2.718348</td>\n",
       "      <td>2.6195</td>\n",
       "      <td>2024-11-29T12:01:20.000Z</td>\n",
       "      <td>2024-11-29T18:04:50.000Z</td>\n",
       "      <td>18</td>\n",
       "      <td>20</td>\n",
       "      <td>0</td>\n",
       "      <td>0</td>\n",
       "      <td>0</td>\n",
       "      <td>...</td>\n",
       "      <td>0</td>\n",
       "      <td>0</td>\n",
       "      <td>0</td>\n",
       "      <td>0</td>\n",
       "      <td>0</td>\n",
       "      <td>0</td>\n",
       "      <td>0</td>\n",
       "      <td>0</td>\n",
       "      <td>0</td>\n",
       "      <td>0</td>\n",
       "    </tr>\n",
       "    <tr>\n",
       "      <th>5466385</th>\n",
       "      <td>775f6565a6a9597985bc2175fe5607006542e04c2b2f04...</td>\n",
       "      <td>4.541515</td>\n",
       "      <td>4.541515</td>\n",
       "      <td>2024-07-26T13:36:01.000Z</td>\n",
       "      <td>2024-07-26T19:14:00.000Z</td>\n",
       "      <td>18</td>\n",
       "      <td>20</td>\n",
       "      <td>0</td>\n",
       "      <td>0</td>\n",
       "      <td>0</td>\n",
       "      <td>...</td>\n",
       "      <td>0</td>\n",
       "      <td>0</td>\n",
       "      <td>0</td>\n",
       "      <td>1</td>\n",
       "      <td>0</td>\n",
       "      <td>0</td>\n",
       "      <td>0</td>\n",
       "      <td>0</td>\n",
       "      <td>0</td>\n",
       "      <td>0</td>\n",
       "    </tr>\n",
       "    <tr>\n",
       "      <th>286322</th>\n",
       "      <td>bb49f6a18962c9eaba6cb95a412443de110d417a1e1135...</td>\n",
       "      <td>5.522585</td>\n",
       "      <td>5.458156</td>\n",
       "      <td>2024-09-13T13:17:05.000Z</td>\n",
       "      <td>2024-09-13T13:19:24.000Z</td>\n",
       "      <td>18</td>\n",
       "      <td>18</td>\n",
       "      <td>0</td>\n",
       "      <td>0</td>\n",
       "      <td>0</td>\n",
       "      <td>...</td>\n",
       "      <td>0</td>\n",
       "      <td>0</td>\n",
       "      <td>0</td>\n",
       "      <td>0</td>\n",
       "      <td>1</td>\n",
       "      <td>0</td>\n",
       "      <td>0</td>\n",
       "      <td>0</td>\n",
       "      <td>0</td>\n",
       "      <td>0</td>\n",
       "    </tr>\n",
       "  </tbody>\n",
       "</table>\n",
       "<p>5 rows × 111 columns</p>\n",
       "</div>"
      ],
      "text/plain": [
       "                                             customer_code  Offer_id  \\\n",
       "1580950  10a735a2f24dab28d8d4b630b518c35d7e0e5209661203...  4.183784   \n",
       "7408299  fdea22ee97dc048ae6957aaa84cde1efd65d5331ff6a1b...  4.898467   \n",
       "7569560  65c6ef44ffb0a527c5023f8579e5bde63cc912c21e8f3a...  2.718348   \n",
       "5466385  775f6565a6a9597985bc2175fe5607006542e04c2b2f04...  4.541515   \n",
       "286322   bb49f6a18962c9eaba6cb95a412443de110d417a1e1135...  5.522585   \n",
       "\n",
       "         Offer_subid            send_timestamp            open_timestamp  \\\n",
       "1580950      4.32899  2024-11-08T13:21:26.000Z  2024-11-08T14:34:20.000Z   \n",
       "7408299     5.022439  2024-08-30T12:06:39.000Z  2024-08-30T16:00:54.000Z   \n",
       "7569560       2.6195  2024-11-29T12:01:20.000Z  2024-11-29T18:04:50.000Z   \n",
       "5466385     4.541515  2024-07-26T13:36:01.000Z  2024-07-26T19:14:00.000Z   \n",
       "286322      5.458156  2024-09-13T13:17:05.000Z  2024-09-13T13:19:24.000Z   \n",
       "\n",
       "         send_timestamp_slot  open_timestamp_slot  product_category_ASSETS  \\\n",
       "1580950                   18                   18                        0   \n",
       "7408299                   18                   19                        0   \n",
       "7569560                   18                   20                        0   \n",
       "5466385                   18                   20                        0   \n",
       "286322                    18                   18                        0   \n",
       "\n",
       "         product_category_CC_ACQ_SECURED  product_category_CC_ACQ_UNSECURED  \\\n",
       "1580950                                0                                  0   \n",
       "7408299                                0                                  0   \n",
       "7569560                                0                                  0   \n",
       "5466385                                0                                  0   \n",
       "286322                                 0                                  0   \n",
       "\n",
       "         ...  product_sub_category_SWYP_ACQ  \\\n",
       "1580950  ...                              0   \n",
       "7408299  ...                              0   \n",
       "7569560  ...                              0   \n",
       "5466385  ...                              0   \n",
       "286322   ...                              0   \n",
       "\n",
       "         product_sub_category_SWYP_UPGRADE  product_sub_category_TACTICAL  \\\n",
       "1580950                                  0                              0   \n",
       "7408299                                  0                              0   \n",
       "7569560                                  0                              0   \n",
       "5466385                                  0                              0   \n",
       "286322                                   0                              0   \n",
       "\n",
       "         product_sub_category_TOPICAL  product_sub_category_TURBO-SA XSELL  \\\n",
       "1580950                             0                                    0   \n",
       "7408299                             0                                    0   \n",
       "7569560                             0                                    0   \n",
       "5466385                             1                                    0   \n",
       "286322                              0                                    1   \n",
       "\n",
       "         product_sub_category_UNSECURED_ACQ  product_sub_category_UPI  \\\n",
       "1580950                                   0                         0   \n",
       "7408299                                   0                         0   \n",
       "7569560                                   0                         0   \n",
       "5466385                                   0                         0   \n",
       "286322                                    0                         0   \n",
       "\n",
       "         product_sub_category_VISTARA_ACQ  \\\n",
       "1580950                                 0   \n",
       "7408299                                 0   \n",
       "7569560                                 0   \n",
       "5466385                                 0   \n",
       "286322                                  0   \n",
       "\n",
       "         product_sub_category_VISTARA_UPGRADE  \\\n",
       "1580950                                     0   \n",
       "7408299                                     0   \n",
       "7569560                                     0   \n",
       "5466385                                     0   \n",
       "286322                                      0   \n",
       "\n",
       "         product_sub_category_VKYC COMPLETION  \n",
       "1580950                                     0  \n",
       "7408299                                     0  \n",
       "7569560                                     0  \n",
       "5466385                                     0  \n",
       "286322                                      0  \n",
       "\n",
       "[5 rows x 111 columns]"
      ]
     },
     "execution_count": 36,
     "metadata": {},
     "output_type": "execute_result"
    }
   ],
   "source": [
    "df_train_removed_sampled_encoded.head()"
   ]
  },
  {
   "cell_type": "markdown",
   "metadata": {},
   "source": [
    "2.2.5 Merging data"
   ]
  },
  {
   "cell_type": "code",
   "execution_count": 38,
   "metadata": {},
   "outputs": [],
   "source": [
    "demograph = train_demo_encoded\n",
    "action = df_train_removed_sampled_encoded\n",
    "\n",
    "# Convert date columns to datetime objects\n",
    "action['send_timestamp'] = pd.to_datetime(action['send_timestamp'])\n",
    "demograph['batch_date'] = pd.to_datetime(demograph['batch_date'])\n",
    "\n",
    "# Assuming IST timezone for both DataFrames\n",
    "action['send_timestamp'] = action['send_timestamp'].dt.tz_convert('Asia/Calcutta') if action['send_timestamp'].dt.tz is not None else action['send_timestamp'].dt.tz_localize('Asia/Calcutta')\n",
    "demograph['batch_date'] = demograph['batch_date'].dt.tz_convert('Asia/Calcutta') if demograph['batch_date'].dt.tz is not None else demograph['batch_date'].dt.tz_localize('Asia/Calcutta')\n",
    "\n",
    "# Sort both DataFrames by the key columns\n",
    "action = action.sort_values(by=['customer_code', 'send_timestamp'])\n",
    "demograph = demograph.sort_values(by=['CUSTOMER_CODE', 'batch_date'])\n",
    "\n",
    "# Ensure both left and right keys are sorted\n",
    "action = action.sort_values(by='send_timestamp')\n",
    "demograph = demograph.sort_values(by='batch_date')\n",
    "\n",
    "# Perform the merge using merge_asof\n",
    "merged_data = pd.merge_asof(\n",
    "    action,\n",
    "    demograph,\n",
    "    left_on='send_timestamp',\n",
    "    right_on='batch_date',\n",
    "    left_by='customer_code',\n",
    "    right_by='CUSTOMER_CODE',\n",
    "    direction='backward'\n",
    ")\n"
   ]
  },
  {
   "cell_type": "markdown",
   "metadata": {},
   "source": [
    "2.2.6  One hot encoding of Send_slots\n"
   ]
  },
  {
   "cell_type": "code",
   "execution_count": 40,
   "metadata": {},
   "outputs": [],
   "source": [
    "df = merged_data\n",
    "df = pd.get_dummies(df, columns=['send_timestamp_slot'], prefix_sep='_',dtype=int)\n",
    "df.drop(columns=['open_timestamp','open_timestamp_slot','CUSTOMER_CODE','batch_date'], inplace=True)"
   ]
  },
  {
   "cell_type": "code",
   "execution_count": 43,
   "metadata": {},
   "outputs": [
    {
     "name": "stdout",
     "output_type": "stream",
     "text": [
      "Number of NaN values in the cleaned dataframe: 0\n"
     ]
    }
   ],
   "source": [
    "# Remove rows containing NaN values\n",
    "df = df.dropna()\n",
    "\n",
    "# Print the number of NaN values in the cleaned dataframe\n",
    "print(\"Number of NaN values in the cleaned dataframe:\", df.isnull().sum().sum())\n"
   ]
  },
  {
   "cell_type": "markdown",
   "metadata": {},
   "source": [
    "# 3. Model Development"
   ]
  },
  {
   "cell_type": "markdown",
   "metadata": {},
   "source": [
    "3.1 Training Set Creation\n"
   ]
  },
  {
   "cell_type": "code",
   "execution_count": 44,
   "metadata": {},
   "outputs": [
    {
     "name": "stdout",
     "output_type": "stream",
     "text": [
      "X_1 Date Range: 2024-06-01 15:02:41+05:30 to 2024-09-01 15:02:24+05:30\n",
      "X_2 Date Range: 2024-07-01 15:06:41+05:30 to 2024-10-01 15:02:39+05:30\n",
      "X_3 Date Range: 2024-08-01 15:03:26+05:30 to 2024-11-01 15:02:36+05:30\n",
      "\n",
      "Shape of X_1: (984271, 200)\n",
      "Shape of X_2: (1057767, 200)\n",
      "Shape of X_3: (1113456, 200)\n"
     ]
    }
   ],
   "source": [
    "# Convert send_timestamp to datetime and sort\n",
    "df['send_timestamp'] = pd.to_datetime(df['send_timestamp'])\n",
    "df = df.sort_values(by='send_timestamp')\n",
    "\n",
    "# Get the minimum timestamp in the data\n",
    "min_timestamp = df['send_timestamp'].min()\n",
    "max_timestamp = df['send_timestamp'].max()  # For validation\n",
    "\n",
    "# Define overlapping 3-month windows (starting 1 month apart)\n",
    "# -----------------------------------------------------------\n",
    "\n",
    "# X_1: First 3 months (e.g., 2024-06-01 to 2024-09-01)\n",
    "X_1 = df[\n",
    "    (df['send_timestamp'] >= min_timestamp) & \n",
    "    (df['send_timestamp'] < min_timestamp + pd.DateOffset(months=3))\n",
    "]\n",
    "\n",
    "# X_2: Starts 1 month after X_1 (e.g., 2024-07-01 to 2024-10-01)\n",
    "X_2 = df[\n",
    "    (df['send_timestamp'] >= min_timestamp + pd.DateOffset(months=1)) & \n",
    "    (df['send_timestamp'] < min_timestamp + pd.DateOffset(months=4))\n",
    "]\n",
    "\n",
    "# X_3: Starts 2 months after X_1 (e.g., 2024-08-01 to 2024-11-01)\n",
    "X_3 = df[\n",
    "    (df['send_timestamp'] >= min_timestamp + pd.DateOffset(months=2)) & \n",
    "    (df['send_timestamp'] < min_timestamp + pd.DateOffset(months=5))\n",
    "]\n",
    "\n",
    "# Print results\n",
    "print(\"X_1 Date Range:\", X_1['send_timestamp'].min(), \"to\", X_1['send_timestamp'].max())\n",
    "print(\"X_2 Date Range:\", X_2['send_timestamp'].min(), \"to\", X_2['send_timestamp'].max())\n",
    "print(\"X_3 Date Range:\", X_3['send_timestamp'].min(), \"to\", X_3['send_timestamp'].max())\n",
    "print(\"\\nShape of X_1:\", X_1.shape)\n",
    "print(\"Shape of X_2:\", X_2.shape)\n",
    "print(\"Shape of X_3:\", X_3.shape)"
   ]
  },
  {
   "cell_type": "markdown",
   "metadata": {},
   "source": [
    "3.2 Target Variable Creation"
   ]
  },
  {
   "cell_type": "code",
   "execution_count": 45,
   "metadata": {},
   "outputs": [
    {
     "name": "stdout",
     "output_type": "stream",
     "text": [
      "\n",
      "Test Windows:\n",
      "Y_1: 2024-09-01 00:00:23+05:30 to 2024-09-30 23:59:24+05:30 | Shape: (363805, 200)\n",
      "Y_2: 2024-10-01 00:00:06+05:30 to 2024-10-31 23:59:30+05:30 | Shape: (398791, 200)\n",
      "Y_3: 2024-11-01 00:00:08+05:30 to 2024-11-30 23:59:59+05:30 | Shape: (268244, 200)\n"
     ]
    }
   ],
   "source": [
    "# Convert send_timestamp to datetime and sort\n",
    "df['send_timestamp'] = pd.to_datetime(df['send_timestamp'])\n",
    "df = df.sort_values(by='send_timestamp')\n",
    "\n",
    "# Define key timestamps\n",
    "min_timestamp = df['send_timestamp'].min()  # 2024-06-01 15:02:41+05:30\n",
    "max_timestamp = df['send_timestamp'].max()  # 2024-12-01 01:30:18+05:30\n",
    "\n",
    "# --------------------------------------------------------\n",
    "y_start = pd.Timestamp('2024-09-01').tz_localize('Asia/Kolkata')  # Define start date\n",
    "\n",
    "Y_1 = df[\n",
    "    (df['send_timestamp'] >= y_start) &\n",
    "    (df['send_timestamp'] < y_start + pd.DateOffset(months=1))  # Sep 1 - Oct 1\n",
    "]\n",
    "\n",
    "Y_2 = df[\n",
    "    (df['send_timestamp'] >= y_start + pd.DateOffset(months=1)) &\n",
    "    (df['send_timestamp'] < y_start + pd.DateOffset(months=2))  # Oct 1 - Nov 1\n",
    "]\n",
    "\n",
    "Y_3 = df[\n",
    "    (df['send_timestamp'] >= y_start + pd.DateOffset(months=2)) &\n",
    "    (df['send_timestamp'] < y_start + pd.DateOffset(months=3))  # Nov 1 - Dec 1\n",
    "]\n",
    "\n",
    "\n",
    "print(\"\\nTest Windows:\")\n",
    "print(\"Y_1:\", Y_1['send_timestamp'].min(), \"to\", Y_1['send_timestamp'].max(), \"| Shape:\", Y_1.shape)\n",
    "print(\"Y_2:\", Y_2['send_timestamp'].min(), \"to\", Y_2['send_timestamp'].max(), \"| Shape:\", Y_2.shape)\n",
    "print(\"Y_3:\", Y_3['send_timestamp'].min(), \"to\", Y_3['send_timestamp'].max(), \"| Shape:\", Y_3.shape)"
   ]
  },
  {
   "cell_type": "markdown",
   "metadata": {},
   "source": [
    "3.2.1 Preprocessing X and Y"
   ]
  },
  {
   "cell_type": "code",
   "execution_count": 47,
   "metadata": {},
   "outputs": [],
   "source": [
    "# Drop the 'send_timestamp' column and select only numeric columns\n",
    "X_1.drop(columns=['send_timestamp'],inplace=True)\n",
    "X_1_merged = X_1.groupby('customer_code').mean().reset_index()\n",
    "\n",
    "X_2.drop(columns=['send_timestamp'],inplace=True)\n",
    "X_2_merged = X_2.groupby('customer_code').mean().reset_index()\n",
    "\n",
    "X_3.drop(columns=['send_timestamp'],inplace=True)\n",
    "X_3_merged = X_3.groupby('customer_code').mean().reset_index()"
   ]
  },
  {
   "cell_type": "code",
   "execution_count": 48,
   "metadata": {},
   "outputs": [
    {
     "data": {
      "text/plain": [
       "(137915, 199)"
      ]
     },
     "execution_count": 48,
     "metadata": {},
     "output_type": "execute_result"
    }
   ],
   "source": [
    "X_1_merged.shape"
   ]
  },
  {
   "cell_type": "code",
   "execution_count": 49,
   "metadata": {},
   "outputs": [],
   "source": [
    "# Filter columns for Y_1\n",
    "columns_to_keep = ['customer_code'] + [col for col in Y_1.columns if col.startswith('send_timestamp_slot_')]\n",
    "Y_1 = Y_1[columns_to_keep]\n",
    "\n",
    "# Filter columns for Y_2\n",
    "columns_to_keep = ['customer_code'] + [col for col in Y_2.columns if col.startswith('send_timestamp_slot_')]\n",
    "Y_2 = Y_2[columns_to_keep]\n",
    "\n",
    "# Filter columns for Y_3\n",
    "columns_to_keep = ['customer_code'] + [col for col in Y_3.columns if col.startswith('send_timestamp_slot_')]\n",
    "Y_3 = Y_3[columns_to_keep]\n"
   ]
  },
  {
   "cell_type": "code",
   "execution_count": 50,
   "metadata": {},
   "outputs": [],
   "source": [
    "Y_1_merged = Y_1.groupby('customer_code').mean().reset_index()\n",
    "Y_2_merged = Y_2.groupby('customer_code').mean().reset_index()\n",
    "Y_3_merged = Y_3.groupby('customer_code').mean().reset_index()"
   ]
  },
  {
   "cell_type": "code",
   "execution_count": 51,
   "metadata": {},
   "outputs": [],
   "source": [
    "def align_and_filter_datasets(X_df, Y_df, customer_col='customer_code', verbose=True, keep_order=True):\n",
    "    \"\"\"\n",
    "    Aligns and filters two datasets to keep only common customers, optionally reordering Y to match X's sequence.\n",
    "    \n",
    "    Parameters:\n",
    "    X_df (DataFrame): First dataset with customer codes\n",
    "    Y_df (DataFrame): Second dataset with customer codes\n",
    "    customer_col (str): Name of customer code column (default: 'customer_code')\n",
    "    verbose (bool): Whether to print progress messages (default: True)\n",
    "    keep_order (bool): Whether to maintain X's customer order in Y (default: True)\n",
    "    \n",
    "    Returns:\n",
    "    tuple: (X_filtered, Y_filtered) - Aligned and filtered DataFrames\n",
    "    \"\"\"\n",
    "    # Validate inputs\n",
    "    if customer_col not in X_df.columns:\n",
    "        raise ValueError(f\"Column '{customer_col}' not found in X dataframe\")\n",
    "    if customer_col not in Y_df.columns:\n",
    "        raise ValueError(f\"Column '{customer_col}' not found in Y dataframe\")\n",
    "\n",
    "    # Find common customers\n",
    "    common_mask = X_df[customer_col].isin(Y_df[customer_col])\n",
    "    common_customers = X_df.loc[common_mask, customer_col].unique()\n",
    "    \n",
    "    if verbose:\n",
    "        original_X = len(X_df)\n",
    "        original_Y = len(Y_df)\n",
    "        print(f\"Original sizes: X={original_X}, Y={original_Y}\")\n",
    "        print(f\"Found {len(common_customers)} common customers\")\n",
    "\n",
    "    # Filter both datasets\n",
    "    X_filtered = X_df[X_df[customer_col].isin(common_customers)]\n",
    "    Y_filtered = Y_df[Y_df[customer_col].isin(common_customers)]\n",
    "\n",
    "    if keep_order:\n",
    "        # Create ordering reference from X\n",
    "        order_df = pd.DataFrame({\n",
    "            customer_col: X_filtered[customer_col],\n",
    "            '__sort_key__': range(len(X_filtered))\n",
    "        })\n",
    "\n",
    "        # Merge with Y to inherit order\n",
    "        Y_filtered = (\n",
    "            order_df\n",
    "            .merge(Y_filtered, on=customer_col, how='left')\n",
    "            .sort_values('__sort_key__')\n",
    "            .drop(columns='__sort_key__')\n",
    "            .reset_index(drop=True)\n",
    "        )\n",
    "\n",
    "    if verbose:\n",
    "        print(f\"Final sizes: X={len(X_filtered)}, Y={len(Y_filtered)}\")\n",
    "        print(f\"Missing in Y after alignment: {Y_filtered[customer_col].isna().sum()}\")\n",
    "\n",
    "    return X_filtered, Y_filtered"
   ]
  },
  {
   "cell_type": "code",
   "execution_count": 52,
   "metadata": {},
   "outputs": [
    {
     "name": "stdout",
     "output_type": "stream",
     "text": [
      "Original sizes: X=137915, Y=125584\n",
      "Found 101513 common customers\n",
      "Final sizes: X=101513, Y=101513\n",
      "Missing in Y after alignment: 0\n",
      "Original sizes: X=155969, Y=121330\n",
      "Found 94881 common customers\n",
      "Final sizes: X=94881, Y=94881\n",
      "Missing in Y after alignment: 0\n",
      "Original sizes: X=177855, Y=93269\n",
      "Found 77776 common customers\n",
      "Final sizes: X=77776, Y=77776\n",
      "Missing in Y after alignment: 0\n"
     ]
    }
   ],
   "source": [
    "X_1_final, Y_1_final = align_and_filter_datasets(X_1_merged, Y_1_merged)\n",
    "X_2_final, Y_2_final = align_and_filter_datasets(X_2_merged, Y_2_merged)\n",
    "X_3_final, Y_3_final = align_and_filter_datasets(X_3_merged, Y_3_merged)"
   ]
  },
  {
   "cell_type": "code",
   "execution_count": 53,
   "metadata": {},
   "outputs": [
    {
     "name": "stderr",
     "output_type": "stream",
     "text": [
      "C:\\Users\\dhruv\\AppData\\Local\\Temp\\ipykernel_30628\\1821789859.py:1: SettingWithCopyWarning: \n",
      "A value is trying to be set on a copy of a slice from a DataFrame\n",
      "\n",
      "See the caveats in the documentation: https://pandas.pydata.org/pandas-docs/stable/user_guide/indexing.html#returning-a-view-versus-a-copy\n",
      "  X_1_final.drop(columns=['customer_code'], inplace=True)\n",
      "C:\\Users\\dhruv\\AppData\\Local\\Temp\\ipykernel_30628\\1821789859.py:2: SettingWithCopyWarning: \n",
      "A value is trying to be set on a copy of a slice from a DataFrame\n",
      "\n",
      "See the caveats in the documentation: https://pandas.pydata.org/pandas-docs/stable/user_guide/indexing.html#returning-a-view-versus-a-copy\n",
      "  X_2_final.drop(columns=['customer_code'], inplace=True)\n",
      "C:\\Users\\dhruv\\AppData\\Local\\Temp\\ipykernel_30628\\1821789859.py:3: SettingWithCopyWarning: \n",
      "A value is trying to be set on a copy of a slice from a DataFrame\n",
      "\n",
      "See the caveats in the documentation: https://pandas.pydata.org/pandas-docs/stable/user_guide/indexing.html#returning-a-view-versus-a-copy\n",
      "  X_3_final.drop(columns=['customer_code'], inplace=True)\n"
     ]
    }
   ],
   "source": [
    "X_1_final.drop(columns=['customer_code'], inplace=True)\n",
    "X_2_final.drop(columns=['customer_code'], inplace=True)\n",
    "X_3_final.drop(columns=['customer_code'], inplace=True)"
   ]
  },
  {
   "cell_type": "code",
   "execution_count": 54,
   "metadata": {},
   "outputs": [],
   "source": [
    "Y_1_final.drop(columns=['customer_code'], inplace=True)\n",
    "Y_2_final.drop(columns=['customer_code'], inplace=True)\n",
    "Y_3_final.drop(columns=['customer_code'], inplace=True)"
   ]
  },
  {
   "cell_type": "code",
   "execution_count": 55,
   "metadata": {},
   "outputs": [],
   "source": [
    "X_final = pd.concat([X_1_final, X_2_final, X_3_final], axis=0)\n",
    "Y_final = pd.concat([Y_1_final, Y_2_final, Y_3_final], axis=0)"
   ]
  },
  {
   "cell_type": "code",
   "execution_count": 56,
   "metadata": {},
   "outputs": [
    {
     "data": {
      "text/plain": [
       "((274170, 198), (274170, 28))"
      ]
     },
     "execution_count": 56,
     "metadata": {},
     "output_type": "execute_result"
    }
   ],
   "source": [
    "X_final.shape, Y_final.shape"
   ]
  },
  {
   "cell_type": "markdown",
   "metadata": {},
   "source": [
    "Spiliting data set"
   ]
  },
  {
   "cell_type": "code",
   "execution_count": 57,
   "metadata": {},
   "outputs": [],
   "source": [
    "#Spiliting data set into train and test using strtify= y as the data set is highly imbalanced\n",
    "\n",
    "X_train,X_test,y_train,y_test = train_test_split(X_final,Y_final, train_size = 0.8, random_state = 100) "
   ]
  },
  {
   "cell_type": "code",
   "execution_count": 58,
   "metadata": {},
   "outputs": [],
   "source": [
    "# Create the RobustScaler\n",
    "robust_scaler = RobustScaler()\n",
    "\n",
    "# Scale the training data\n",
    "X_train_scaled = robust_scaler.fit_transform(X_train)\n",
    "X_test_scaled = robust_scaler.transform(X_test)"
   ]
  },
  {
   "cell_type": "markdown",
   "metadata": {},
   "source": [
    "3.3 Model Selection"
   ]
  },
  {
   "cell_type": "markdown",
   "metadata": {},
   "source": [
    "3.3.1  Stacking Model BM : \"RandomForest\" and MM : \"XGBoost\""
   ]
  },
  {
   "cell_type": "code",
   "execution_count": 61,
   "metadata": {},
   "outputs": [],
   "source": [
    "# Define the base model (RandomForestRegressor)\n",
    "base_model = RandomForestRegressor(random_state=1055, n_jobs=-1)\n",
    "\n",
    "# Define the meta-model (XGBRegressor)\n",
    "meta_model = XGBRegressor(random_state=1055, n_jobs=-1)\n",
    "\n",
    "# Train the base model\n",
    "base_model.fit(X_train_scaled, y_train)\n",
    "\n",
    "# Generate base model predictions on the training set\n",
    "base_predictions_train = base_model.predict(X_train_scaled)\n",
    "\n",
    "# Combine the original features with the base model predictions\n",
    "stacked_features_train = np.hstack((X_train_scaled, base_predictions_train))\n",
    "\n",
    "# Train the meta-model on the stacked features\n",
    "meta_model.fit(stacked_features_train, y_train)\n",
    "\n",
    "# Generate base model predictions on the test set\n",
    "base_predictions_test = base_model.predict(X_test_scaled)\n",
    "\n",
    "# Combine the original features with the base model predictions for the test set\n",
    "stacked_features_test = np.hstack((X_test_scaled, base_predictions_test))\n",
    "\n",
    "# Make predictions using the meta-model\n",
    "y_pred = meta_model.predict(stacked_features_test)\n",
    "\n",
    "# Evaluate the model using Mean Absolute Error (or your custom MAP scorer)\n",
    "mae = mean_absolute_error(y_test, y_pred)\n",
    "print(f\"Mean Absolute Error (MAE): {mae}\")"
   ]
  },
  {
   "cell_type": "code",
   "execution_count": 62,
   "metadata": {},
   "outputs": [],
   "source": [
    "def calculate_map(ranked_slots, actual_relevance, k=28):\n",
    "    \"\"\"\n",
    "    Calculate Mean Average Precision (MAP) for a single prediction.\n",
    "\n",
    "    Parameters:\n",
    "    ranked_slots (list): Ranked list of slots (e.g., ['slot_11', 'slot_23', ...]).\n",
    "    actual_relevance (array): Binary array indicating relevant slots (e.g., [0, 0, 1, ...]).\n",
    "    k (int): Number of slots to consider (default: 28).\n",
    "\n",
    "    Returns:\n",
    "    float: MAP score.\n",
    "    \"\"\"\n",
    "    # Convert ranked_slots to indices (e.g., ['slot_11', 'slot_23'] -> [10, 22])\n",
    "    ranked_indices = [int(slot.split('_')[1]) - 1 for slot in ranked_slots]\n",
    "\n",
    "    # Initialize variables\n",
    "    relevant_count = 0\n",
    "    cumulative_precision = 0.0\n",
    "\n",
    "    # Iterate through the ranked slots\n",
    "    for i, slot_index in enumerate(ranked_indices[:k]):\n",
    "        if actual_relevance[slot_index] == 1:\n",
    "            relevant_count += 1\n",
    "            precision_at_i = relevant_count / (i + 1)\n",
    "            cumulative_precision += precision_at_i\n",
    "\n",
    "    # Calculate Average Precision (AP)\n",
    "    total_relevant = np.sum(actual_relevance)\n",
    "    if total_relevant == 0:\n",
    "        return 0.0  # No relevant slots, AP is 0\n",
    "    ap = cumulative_precision / total_relevant\n",
    "\n",
    "    return ap"
   ]
  },
  {
   "cell_type": "code",
   "execution_count": 63,
   "metadata": {},
   "outputs": [],
   "source": [
    "# # Load the base model\n",
    "# base_model = joblib.load('base_model.pkl')\n",
    "\n",
    "# # Load the meta model\n",
    "# meta_model = joblib.load('meta_model.pkl')"
   ]
  },
  {
   "cell_type": "code",
   "execution_count": null,
   "metadata": {},
   "outputs": [],
   "source": [
    "# Updated MAP calculation for continuous values\n",
    "def calculate_map_continuous(y_true, y_pred, k=28):\n",
    "    \"\"\"\n",
    "    Calculate Mean Average Precision (MAP) for continuous predictions.\n",
    "\n",
    "    Parameters:\n",
    "    y_true (numpy array): Actual target values.\n",
    "    y_pred (numpy array): Predicted probabilities or scores.\n",
    "    k (int): Number of top slots to consider (default: 28).\n",
    "\n",
    "    Returns:\n",
    "    float: MAP score.\n",
    "    \"\"\"\n",
    "    ap_scores = []\n",
    "    for i in range(y_true.shape[0]):\n",
    "        # Sort indices by predicted values in descending order\n",
    "        sorted_indices = np.argsort(-y_pred[i])\n",
    "        \n",
    "        # Get top-k indices\n",
    "        top_k_indices = sorted_indices[:k]\n",
    "        \n",
    "        # Calculate precision at k for relevant slots\n",
    "        relevance = y_true[i][top_k_indices]\n",
    "        precision_at_k = relevance.cumsum() / np.arange(1, k + 1)\n",
    "        ap = (precision_at_k * relevance).sum() / relevance.sum() if relevance.sum() > 0 else 0\n",
    "        ap_scores.append(ap)\n",
    "    \n",
    "    return np.mean(ap_scores)\n",
    "\n",
    "# Generate ranked lists\n",
    "def rank_slots(predictions):\n",
    "    slot_names = [f\"slot_{i+1}\" for i in range(predictions.shape[1])]\n",
    "    ranked = []\n",
    "    for row in predictions:\n",
    "        # Pair slot names with probabilities and sort descendingly\n",
    "        sorted_slots = sorted(zip(slot_names, row), key=lambda x: -x[1])\n",
    "        # Extract slot names in order\n",
    "        ranked.append([slot for slot, _ in sorted_slots])\n",
    "    return ranked\n",
    "\n",
    "# Predict time slots\n",
    "def predict_time_slots(base_model, meta_model, input_data):\n",
    "    \"\"\"\n",
    "    Predicts the ranked time slots for a single input row using a stacking model.\n",
    "\n",
    "    Parameters:\n",
    "    base_model (sklearn model): Trained base regression model.\n",
    "    meta_model (sklearn model): Trained meta regression model.\n",
    "    input_data (array-like): Single row of input data (features).\n",
    "\n",
    "    Returns:\n",
    "    dict: Predicted probabilities and ranked slots.\n",
    "    \"\"\"\n",
    "    # Ensure input_data is a 2D array for prediction\n",
    "    input_array = np.array(input_data).reshape(1, -1)\n",
    "\n",
    "    # Step 1: Get base model prediction for the input row\n",
    "    base_prediction = base_model.predict(input_array).reshape(1, -1)\n",
    "\n",
    "    # Step 2: Combine original input with base prediction for meta-model\n",
    "    stacked_input = np.hstack((input_array, base_prediction))\n",
    "\n",
    "    # Step 3: Predict probabilities using the meta-model\n",
    "    predicted_probs = meta_model.predict(stacked_input).reshape(1, -1)\n",
    "\n",
    "    # Step 4: Rank slots by predicted probabilities\n",
    "    slot_names = [f\"slot_{i+1}\" for i in range(predicted_probs.shape[1])]\n",
    "    sorted_slots = sorted(zip(slot_names, predicted_probs[0]), key=lambda x: -x[1])\n",
    "\n",
    "    # Extract ranked slots and probabilities\n",
    "    ranked_slots = [slot for slot, _ in sorted_slots]\n",
    "    ranked_probs = [prob for _, prob in sorted_slots]\n",
    "\n",
    "    return {\n",
    "        \"ranked_slots\": ranked_slots,\n",
    "        \"ranked_probs\": ranked_probs\n",
    "    }\n",
    "    \n",
    "    # Predict time slots\n",
    "def predict_time_slots(base_model, meta_model, input_data):\n",
    "    \"\"\"\n",
    "    Predicts the ranked time slots for a single input row using a stacking model.\n",
    "\n",
    "    Parameters:\n",
    "    base_model (sklearn model): Trained base regression model.\n",
    "    meta_model (sklearn model): Trained meta regression model.\n",
    "    input_data (array-like): Single row of input data (features).\n",
    "\n",
    "    Returns:\n",
    "    dict: Predicted probabilities and ranked slots.\n",
    "    \"\"\"\n",
    "    # Ensure input_data is a 2D array for prediction\n",
    "    input_array = np.array(input_data).reshape(1, -1)\n",
    "\n",
    "    # Step 1: Get base model prediction for the input row\n",
    "    base_prediction = base_model.predict(input_array).reshape(1, -1)\n",
    "\n",
    "    # Step 2: Combine original input with base prediction for meta-model\n",
    "    stacked_input = np.hstack((input_array, base_prediction))\n",
    "\n",
    "    # Step 3: Predict probabilities using the meta-model\n",
    "    predicted_probs = meta_model.predict(stacked_input).reshape(1, -1)\n",
    "\n",
    "    # Step 4: Rank slots by predicted probabilities\n",
    "    slot_names = [f\"slot_{i+1}\" for i in range(predicted_probs.shape[1])]\n",
    "    sorted_slots = sorted(zip(slot_names, predicted_probs[0]), key=lambda x: -x[1])\n",
    "\n",
    "    # Extract ranked slots and probabilities\n",
    "    ranked_slots = [slot for slot, _ in sorted_slots]\n",
    "    ranked_probs = [prob for _, prob in sorted_slots]\n",
    "\n",
    "    return {\n",
    "        \"ranked_slots\": ranked_slots,\n",
    "        \"ranked_probs\": ranked_probs\n",
    "    }\n",
    "    "
   ]
  },
  {
   "cell_type": "code",
   "execution_count": null,
   "metadata": {},
   "outputs": [],
   "source": [
    "# Evaluate the model\n",
    "mae = mean_absolute_error(y_test, y_pred)\n",
    "mse = mean_squared_error(y_test, y_pred)\n",
    "r2 = r2_score(y_test, y_pred)\n",
    "map_score = calculate_map_continuous(y_test.values, y_pred)\n",
    "\n",
    "print(f\"Mean Absolute Error (MAE): {mae:.4f}\")\n",
    "print(f\"Mean Squared Error (MSE): {mse:.4f}\")\n",
    "print(f\"R² (R-squared): {r2:.4f}\")\n",
    "print(f\"Mean Average Precision (MAP): {map_score:.4f}\")\n",
    "\n",
    "ranked_predictions = rank_slots(y_pred)"
   ]
  },
  {
   "cell_type": "markdown",
   "metadata": {},
   "source": [
    "3.3.2 Artificial Neural Network"
   ]
  },
  {
   "cell_type": "code",
   "execution_count": null,
   "metadata": {},
   "outputs": [],
   "source": [
    "import numpy as np\n",
    "import pandas as pd\n",
    "from sklearn.model_selection import train_test_split\n",
    "from sklearn.preprocessing import RobustScaler\n",
    "from tensorflow.keras.models import Model\n",
    "from tensorflow.keras.layers import Input, Dense, Dropout\n",
    "from tensorflow.keras.optimizers import Adam\n",
    "from tensorflow.keras.callbacks import EarlyStopping\n",
    "\n",
    "def mean_average_precision(y_true, y_pred):\n",
    "    aps = []\n",
    "    for i in range(len(y_true)):\n",
    "        try:\n",
    "            # Convert to NumPy arrays if necessary\n",
    "            y_true_sample = np.array(y_true[i]) if isinstance(y_true, pd.Series) else y_true[i]\n",
    "            y_pred_sample = np.array(y_pred[i]) if isinstance(y_pred, pd.Series) else y_pred[i]\n",
    "\n",
    "            # Get true labels (indices of relevant items)\n",
    "            true_labels = np.where(y_true_sample == 1)[0]\n",
    "            pred_probs = y_pred_sample\n",
    "\n",
    "            # Sort predictions by probability\n",
    "            sorted_indices = np.argsort(pred_probs)[::-1]\n",
    "            sorted_true = y_true_sample[sorted_indices]\n",
    "\n",
    "            # Compute precision at each position\n",
    "            precision = np.cumsum(sorted_true) / (np.arange(len(sorted_true)) + 1)\n",
    "            average_precision = np.sum(precision * sorted_true) / np.sum(sorted_true)\n",
    "            aps.append(average_precision)\n",
    "        except Exception as e:\n",
    "            print(f\"Error in sample {i}: {e}\")\n",
    "            aps.append(0)  # Default to zero MAP for problematic samples\n",
    "    return np.mean(aps)\n",
    "\n",
    "\n",
    "\n"
   ]
  },
  {
   "cell_type": "code",
   "execution_count": null,
   "metadata": {},
   "outputs": [],
   "source": [
    "import numpy as np\n",
    "from sklearn.metrics import average_precision_score\n",
    "\n",
    "def map_score(y_true, y_pred):\n",
    "    \"\"\"\n",
    "    Calculate Mean Average Precision (MAP) for multi-output regression.\n",
    "\n",
    "    Parameters:\n",
    "    y_true (array-like): Ground truth (actual relevance).\n",
    "    y_pred (array-like): Predicted probabilities.\n",
    "\n",
    "    Returns:\n",
    "    float: MAP score.\n",
    "    \"\"\"\n",
    "    n_outputs = y_true.shape[1]\n",
    "    map_scores = []\n",
    "\n",
    "    for i in range(n_outputs):\n",
    "        # Rank predictions for the current target\n",
    "        ranked_indices = np.argsort(-y_pred[:, i])  # Sort in descending order\n",
    "        ranked_relevance = y_true[:, i][ranked_indices]\n",
    "\n",
    "        # Calculate average precision for the current target\n",
    "        ap = average_precision_score(ranked_relevance, y_pred[:, i])\n",
    "        map_scores.append(ap)\n",
    "\n",
    "    # Return the mean of average precisions\n",
    "    return np.mean(map_scores)"
   ]
  },
  {
   "cell_type": "code",
   "execution_count": null,
   "metadata": {},
   "outputs": [],
   "source": [
    "# Define the neural network model\n",
    "def build_model(input_shape, output_shape):\n",
    "    inputs = Input(shape=(input_shape,))\n",
    "    x = Dense(128, activation='relu')(inputs)\n",
    "    x = Dropout(0.2)(x)\n",
    "    x = Dense(64, activation='relu')(x)\n",
    "    x = Dropout(0.2)(x)\n",
    "    x = Dense(32, activation='relu')(x)\n",
    "    outputs = Dense(output_shape, activation='sigmoid')(x)\n",
    "    model = Model(inputs, outputs)\n",
    "    model.compile(optimizer=Adam(learning_rate=0.001),\n",
    "                  loss='binary_crossentropy',\n",
    "                  metrics=['mae'])  # Mean Absolute Error\n",
    "    return model\n",
    "\n",
    "# Build and train the model\n",
    "input_shape = X_train_scaled.shape[1]\n",
    "output_shape = y_train.shape[1]\n",
    "model = build_model(input_shape, output_shape)\n",
    "early_stopping = EarlyStopping(monitor='val_loss', patience=10, restore_best_weights=True)\n",
    "\n",
    "history = model.fit(\n",
    "    X_train_scaled, y_train,\n",
    "    validation_split=0.2,\n",
    "    epochs=30,\n",
    "    batch_size=32,\n",
    "    callbacks=[early_stopping],\n",
    "    verbose=1\n",
    ")\n"
   ]
  },
  {
   "cell_type": "markdown",
   "metadata": {},
   "source": [
    "3.3.3 Random Forest"
   ]
  },
  {
   "cell_type": "code",
   "execution_count": null,
   "metadata": {},
   "outputs": [],
   "source": [
    "from sklearn.ensemble import RandomForestRegressor\n",
    "from sklearn.multioutput import MultiOutputRegressor\n",
    "import numpy as np\n",
    "\n",
    "# Initialize and train the model\n",
    "multi_regressor = MultiOutputRegressor(\n",
    "    RandomForestRegressor(n_estimators=300,\n",
    "                         min_samples_split=100,\n",
    "                         min_samples_leaf=50,\n",
    "                         max_features=15,\n",
    "                         max_depth=10,\n",
    "                         n_jobs=-1,\n",
    "                         random_state=1055),\n",
    "    n_jobs=-1\n",
    ")\n",
    "\n",
    "multi_regressor.fit(X_train_scaled, y_train)\n",
    "\n",
    "# Predict probabilities for all 28 slots (continuous values)\n",
    "y_pred_probs = multi_regressor.predict(X_test_scaled)"
   ]
  },
  {
   "cell_type": "code",
   "execution_count": null,
   "metadata": {},
   "outputs": [],
   "source": [
    "from sklearn.metrics import average_precision_score, mean_absolute_error, mean_squared_error, r2_score\n",
    "\n",
    "# Calculate Mean Average Precision (MAP)\n",
    "def calculate_map(y_true, y_pred):\n",
    "    ap_scores = []\n",
    "    for i in range(y_true.shape[1]):\n",
    "        ap_scores.append(average_precision_score(y_true[:, i], y_pred[:, i]))\n",
    "    return np.mean(ap_scores)\n",
    "\n",
    "# Evaluate the model\n",
    "mae = mean_absolute_error(y_test, y_pred_probs)\n",
    "mse = mean_squared_error(y_test, y_pred_probs)\n",
    "r2 = r2_score(y_test, y_pred_probs)\n",
    "map_score = calculate_map(y_test.values, y_pred_probs)\n",
    "\n",
    "print(f\"Mean Absolute Error (MAE): {mae:.4f}\")\n",
    "print(f\"Mean Squared Error (MSE): {mse:.4f}\")\n",
    "print(f\"R² (R-squared): {r2:.4f}\")\n",
    "print(f\"Mean Average Precision (MAP): {map_score:.4f}\")"
   ]
  },
  {
   "cell_type": "code",
   "execution_count": null,
   "metadata": {},
   "outputs": [],
   "source": [
    "# Generate ranked lists\n",
    "def rank_slots(predictions):\n",
    "    slot_names = [f\"slot_{i+1}\" for i in range(28)]\n",
    "    ranked = []\n",
    "    for row in predictions:\n",
    "        # Pair slot names with probabilities and sort descendingly\n",
    "        sorted_slots = sorted(zip(slot_names, row), key=lambda x: -x[1])\n",
    "        # Extract slot names in order\n",
    "        ranked.append([slot for slot, _ in sorted_slots])\n",
    "    return ranked\n",
    "\n",
    "ranked_predictions = rank_slots(y_pred_probs)"
   ]
  },
  {
   "cell_type": "code",
   "execution_count": null,
   "metadata": {},
   "outputs": [],
   "source": [
    "import numpy as np\n",
    "import pandas as pd\n",
    "from sklearn.preprocessing import RobustScaler\n",
    "\n",
    "scaler = RobustScaler()\n",
    "\n",
    "def predict_time_slots(model, input_data, feature_names=None):\n",
    "    \"\"\"\n",
    "    Predicts the ranked time slots for a single input row using a RobustScaler.\n",
    "\n",
    "    Parameters:\n",
    "    model (sklearn model): Trained multi-output regression model.\n",
    "    scaler (RobustScaler): RobustScaler instance used during training.\n",
    "    input_data (array-like or dict): Single row of input data (features).\n",
    "    feature_names (list): List of feature names (required if input_data is a dict).\n",
    "\n",
    "    Returns:\n",
    "    dict: Predicted probabilities and ranked slots.\n",
    "    \"\"\"\n",
    "    # Convert input_data to a DataFrame if it's a dictionary\n",
    "    if isinstance(input_data, dict):\n",
    "        if feature_names is None:\n",
    "            raise ValueError(\"feature_names must be provided if input_data is a dictionary.\")\n",
    "        input_df = pd.DataFrame([input_data], columns=feature_names)\n",
    "    else:\n",
    "        input_df = pd.DataFrame([input_data])\n",
    "\n",
    "    # Predict probabilities for all 28 slots\n",
    "    predicted_probs = model.predict(input_df)\n",
    "\n",
    "    # Rank slots by predicted probabilities\n",
    "    slot_names = [f\"slot_{i+1}\" for i in range(28)]\n",
    "    sorted_slots = sorted(zip(slot_names, predicted_probs[0]), key=lambda x: -x[1])\n",
    "\n",
    "    # Extract ranked slots and probabilities\n",
    "    ranked_slots = [slot for slot, _ in sorted_slots]\n",
    "    ranked_probs = [prob for _, prob in sorted_slots]\n",
    "\n",
    "    return {\n",
    "        \"ranked_slots\": ranked_slots,\n",
    "        \"ranked_probs\": ranked_probs\n",
    "    }"
   ]
  },
  {
   "cell_type": "code",
   "execution_count": null,
   "metadata": {},
   "outputs": [],
   "source": [
    "import numpy as np\n",
    "\n",
    "def calculate_map(ranked_slots, actual_relevance, k=28):\n",
    "    \"\"\"\n",
    "    Calculate Mean Average Precision (MAP) for a single prediction.\n",
    "\n",
    "    Parameters:\n",
    "    ranked_slots (list): Ranked list of slots (e.g., ['slot_11', 'slot_23', ...]).\n",
    "    actual_relevance (array): Binary array indicatinga relevant slots (e.g., [0, 0, 1, ...]).\n",
    "    k (int): Number of slots to consider (default: 28).\n",
    "\n",
    "    Returns:\n",
    "    float: MAP score.\n",
    "    \"\"\"\n",
    "    # Convert ranked_slots to indices (e.g., ['slot_11', 'slot_23'] -> [10, 22])\n",
    "    ranked_indices = [int(slot.split('_')[1]) - 1 for slot in ranked_slots]\n",
    "\n",
    "    # Initialize variables\n",
    "    relevant_count = 0\n",
    "    cumulative_precision = 0.0\n",
    "\n",
    "    # Iterate through the ranked slots\n",
    "    for i, slot_index in enumerate(ranked_indices[:k]):\n",
    "        if actual_relevance[slot_index] == 1:\n",
    "            relevant_count += 1\n",
    "            precision_at_i = relevant_count / (i + 1)\n",
    "            cumulative_precision += precision_at_i\n",
    "\n",
    "    # Calculate Average Precision (AP)\n",
    "    total_relevant = np.sum(actual_relevance)\n",
    "    if total_relevant == 0:\n",
    "        return 0.0  # No relevant slots, AP is 0\n",
    "    ap = cumulative_precision / total_relevant\n",
    "\n",
    "    return ap"
   ]
  },
  {
   "cell_type": "code",
   "execution_count": null,
   "metadata": {},
   "outputs": [],
   "source": [
    "total_map_score = 0\n",
    "num_samples = 1000\n",
    "\n",
    "for i in range(num_samples):\n",
    "    input_data = X_train.iloc[i].values  # Single row as a NumPy array\n",
    "    result = predict_time_slots(model, input_data)\n",
    "    \n",
    "    # Print results\n",
    "    print(f\"Row {i}:\")\n",
    "    print(\"Ranked Slots:\", result[\"ranked_slots\"])\n",
    "    print(\"Ranked Probabilities:\", result[\"ranked_probs\"])\n",
    "    print(\"Actual Relevance:\", y_train.iloc[i].values)\n",
    "    map_score = calculate_map(result[\"ranked_slots\"], y_train.iloc[i].values)\n",
    "    print(\"MAP Score:\", map_score)\n",
    "    print()\n",
    "    \n",
    "    total_map_score += map_score\n",
    "\n",
    "avg_map_score = total_map_score / num_samples\n",
    "print(f\"Average MAP Score for {num_samples} samples: {avg_map_score}\")\n"
   ]
  },
  {
   "cell_type": "markdown",
   "metadata": {},
   "source": [
    "# 4. Test Data Preparation"
   ]
  },
  {
   "cell_type": "code",
   "execution_count": null,
   "metadata": {},
   "outputs": [],
   "source": [
    "# Load test action history data\n",
    "test_action_history = pd.read_csv('test_action_history.csv')  # Load the test action history dataset from a CSV file"
   ]
  },
  {
   "cell_type": "markdown",
   "metadata": {},
   "source": [
    "Time Slot Conversion Function"
   ]
  },
  {
   "cell_type": "code",
   "execution_count": null,
   "metadata": {},
   "outputs": [],
   "source": [
    "def add_time_slots_vectorized(df):\n",
    "    \"\"\"\n",
    "    Converts send_timestamp and open_timestamp to time slots (1-28) in a vectorized way.\n",
    "    - Time slots: 3-hour windows from 9AM to 9PM daily (4 slots/day × 7 days = 28 slots).\n",
    "    - Slots outside 9AM-9PM are set to `None`.\n",
    "    \"\"\"\n",
    "    # Process both send and open timestamps\n",
    "    for col in ['send_timestamp', 'open_timestamp']:\n",
    "        # Skip if the column is not present in the DataFrame\n",
    "        if col not in df.columns:\n",
    "            continue\n",
    "        \n",
    "        # Convert the column to datetime, coercing errors to NaT (Not a Time)\n",
    "        dt_series = pd.to_datetime(df[col], errors='coerce', utc=True)\n",
    "        \n",
    "        # Calculate day of the week (Monday=0, Sunday=6)\n",
    "        day_of_week = dt_series.dt.dayofweek\n",
    "        \n",
    "        # Calculate total minutes since midnight (hour * 60 + minute)\n",
    "        total_minutes = dt_series.dt.hour * 60 + dt_series.dt.minute\n",
    "        \n",
    "        # Time slot logic:\n",
    "        # - Valid time range: 9 AM (540 minutes) to 9 PM (1260 minutes)\n",
    "        valid_mask = (total_minutes >= 540) & (total_minutes < 1260)\n",
    "        \n",
    "        # Calculate slot within the day (0-3, representing 9AM-12PM, 12PM-3PM, etc.)\n",
    "        slot_in_day = ((total_minutes - 540) // 180).astype('Int64')  # Int64 handles NaN\n",
    "        \n",
    "        # Calculate the overall slot number (1-28) based on day of the week and slot in day\n",
    "        slot_number = (day_of_week * 4 + slot_in_day + 1).where(valid_mask, pd.NA)  # 1-28 or NA\n",
    "        \n",
    "        # Add the calculated slot number as a new column in the DataFrame\n",
    "        df[f'{col}_slot'] = slot_number.astype('Int64')  # Use pandas' nullable integer type\n",
    "    \n",
    "    return df"
   ]
  },
  {
   "cell_type": "markdown",
   "metadata": {},
   "source": [
    "Encoding Feature with Open Ratio and Slot Number"
   ]
  },
  {
   "cell_type": "code",
   "execution_count": null,
   "metadata": {},
   "outputs": [],
   "source": [
    "def encode_open_ratio_with_slot(df, feature_name, slot_column='send_slot'):\n",
    "    \"\"\"\n",
    "    Encodes a feature (e.g., Offer_id) with: (open_ratio) × (slot_number).\n",
    "    \n",
    "    Parameters:\n",
    "    - df: DataFrame containing the data.\n",
    "    - feature_name: Name of the feature to encode (e.g., 'Offer_id').\n",
    "    - slot_column: Name of the column containing slot numbers (e.g., 'send_slot').\n",
    "    \n",
    "    Returns:\n",
    "    - Series with encoded values.\n",
    "    \"\"\"\n",
    "    # Create a temporary column to indicate whether the feature was opened\n",
    "    # 'is_opened' is 1 if 'open_timestamp_slot' is not NaN, otherwise 0\n",
    "    df['is_opened'] = df['open_timestamp_slot'].notna().astype(int)\n",
    "    \n",
    "    # Calculate the open ratio for the feature\n",
    "    # The open ratio is the mean of 'is_opened' grouped by the feature (e.g., Offer_id)\n",
    "    open_ratio = df.groupby(feature_name)['is_opened'].transform('mean')\n",
    "    \n",
    "    # Multiply the open ratio by the slot number to get the encoded value\n",
    "    encoded_value = open_ratio * df[slot_column]\n",
    "    \n",
    "    # Cleanup: Drop the temporary 'is_opened' column as it's no longer needed\n",
    "    df.drop('is_opened', axis=1, inplace=True)\n",
    "    \n",
    "    # Return the encoded values as a Series\n",
    "    return encoded_value"
   ]
  },
  {
   "cell_type": "markdown",
   "metadata": {},
   "source": [
    "Preprocessing and Feature Engineering\n",
    "\n",
    "This cell performs several preprocessing steps, including:\n",
    "\n",
    "1) Adding time slots to the test action history data.\n",
    "\n",
    "2) Dropping unnecessary columns.\n",
    "\n",
    "3) Encoding Offer_id and Offer_subid using the encode_open_ratio_with_slot function.\n",
    "\n",
    "4) Filtering rows based on customer codes present in the demographics data.\n",
    "\n",
    "5) One-hot encoding categorical columns (product_category and product_sub_category).\n",
    "\n",
    "6) Visualizing the distribution of send_timestamp_slot."
   ]
  },
  {
   "cell_type": "code",
   "execution_count": null,
   "metadata": {},
   "outputs": [],
   "source": [
    "# Add time slots to the test action history data\n",
    "df_test_slots = add_time_slots_vectorized(test_action_history)\n",
    "\n",
    "# Drop the 'batch_id' column as it is no longer needed\n",
    "df_test_slots.drop(columns=['batch_id'], inplace=True)\n",
    "\n",
    "# Encode 'Offer_id' and 'Offer_subid' using the open ratio and slot number\n",
    "Offer_id = encode_open_ratio_with_slot(df_test_slots, 'Offer_id', 'send_timestamp_slot')\n",
    "Offer_subid = encode_open_ratio_with_slot(df_test_slots, 'Offer_subid', 'send_timestamp_slot')\n",
    "\n",
    "# Add the encoded values back to the DataFrame\n",
    "df_test_slots['Offer_id'] = Offer_id\n",
    "df_test_slots['Offer_subid'] = Offer_subid\n",
    "\n",
    "# Remove rows where 'customer_code' is not present in the demographics data\n",
    "test_demo_encoded1 = pd.read_csv('test_demo_encoded1.csv')\n",
    "df_test_slots = df_test_slots[df_test_slots['customer_code'].isin(test_demo_encoded1['CUSTOMER_CODE'])]\n",
    "\n",
    "# One-hot encode 'product_category' and 'product_sub_category'\n",
    "df_test_slots = pd.get_dummies(df_test_slots, columns=['product_category'], prefix_sep='_')\n",
    "df_test_slots = pd.get_dummies(df_test_slots, columns=['product_sub_category'], prefix_sep='_')\n",
    "\n",
    "# Convert boolean values from one-hot encoding to integers (1 or 0)\n",
    "df_test_slots = df_test_slots * 1\n",
    "\n",
    "# Create a copy of the DataFrame for further analysis\n",
    "df_test_removed = df_test_slots\n",
    "\n",
    "# Visualize the distribution of 'send_timestamp_slot'\n",
    "df_test_removed['send_timestamp_slot'].hist(bins=50)\n",
    "\n",
    "# Calculate the percentage distribution of 'send_timestamp_slot'\n",
    "value_counts = df_test_removed['send_timestamp_slot'].value_counts(normalize=True) * 100\n",
    "print(value_counts)"
   ]
  },
  {
   "cell_type": "code",
   "execution_count": null,
   "metadata": {},
   "outputs": [],
   "source": [
    "df = df_test_removed"
   ]
  },
  {
   "cell_type": "code",
   "execution_count": null,
   "metadata": {},
   "outputs": [],
   "source": [
    "df.info()"
   ]
  },
  {
   "cell_type": "markdown",
   "metadata": {},
   "source": [
    "Aligning Columns Between Training and Test Data\n",
    "This cell ensures that the test data (df_test_removed) has the same columns as the training data (df_train). If any columns are missing in the test data, they are added with default values of 0. This step is crucial for ensuring compatibility between the training and test datasets before model prediction."
   ]
  },
  {
   "cell_type": "code",
   "execution_count": null,
   "metadata": {},
   "outputs": [],
   "source": [
    "# Assign the preprocessed test data to a new variable for clarity\n",
    "df = df_test_removed\n",
    "\n",
    "# Display information about the DataFrame (e.g., columns, data types, non-null counts)\n",
    "df.info()\n",
    "\n",
    "# Load the demographics data\n",
    "demograph = pd.read_csv('test_demo_encoded1.csv')\n",
    "\n",
    "# Assign the preprocessed test data to the variable 'action' for further use\n",
    "action = df\n",
    "\n",
    "# Load the training data (one-hot encoded before merging)\n",
    "df_train = pd.read_csv('one_hot_encoded_before_merging.csv')\n",
    "\n",
    "def align_columns(train_df, test_df):\n",
    "    \"\"\"\n",
    "    Ensure that test_df has the same columns as train_df.\n",
    "    If a column is missing in test_df, add it with all values set to 0.\n",
    "\n",
    "    Parameters:\n",
    "    train_df (pd.DataFrame): Training data with encoded columns.\n",
    "    test_df (pd.DataFrame): Test data with encoded columns.\n",
    "\n",
    "    Returns:\n",
    "    pd.DataFrame: Test data with aligned columns.\n",
    "    \"\"\"\n",
    "    # Get the columns in train_df that are missing in test_df\n",
    "    missing_columns = set(train_df.columns) - set(test_df.columns)\n",
    "\n",
    "    # Add missing columns to test_df with all values set to 0\n",
    "    for col in missing_columns:\n",
    "        test_df[col] = 0\n",
    "\n",
    "    # Reorder columns in test_df to match train_df\n",
    "    test_df = test_df[train_df.columns]\n",
    "\n",
    "    return test_df\n",
    "\n",
    "# Align the test data columns with the training data columns\n",
    "df = align_columns(df_train, df)\n",
    "\n",
    "# Display the aligned DataFrame\n",
    "df"
   ]
  },
  {
   "cell_type": "markdown",
   "metadata": {},
   "source": [
    "Merging Action History with Demographics Data\n",
    "This cell merges the action history data (action) with the demographics data (demograph) using a time-based merge (merge_asof). The merge is performed based on the send_timestamp and batch_date columns, ensuring that the closest previous demographic data is matched to each action."
   ]
  },
  {
   "cell_type": "code",
   "execution_count": null,
   "metadata": {},
   "outputs": [],
   "source": [
    "# Convert 'send_timestamp' and 'batch_date' columns to datetime objects\n",
    "action['send_timestamp'] = pd.to_datetime(action['send_timestamp'])\n",
    "demograph['batch_date'] = pd.to_datetime(demograph['batch_date'])\n",
    "\n",
    "# Convert timestamps to IST timezone (Asia/Calcutta)\n",
    "# If the timestamps already have a timezone, convert it; otherwise, localize it\n",
    "action['send_timestamp'] = (\n",
    "    action['send_timestamp'].dt.tz_convert('Asia/Calcutta') \n",
    "    if action['send_timestamp'].dt.tz is not None \n",
    "    else action['send_timestamp'].dt.tz_localize('Asia/Calcutta')\n",
    ")\n",
    "\n",
    "demograph['batch_date'] = (\n",
    "    demograph['batch_date'].dt.tz_convert('Asia/Calcutta') \n",
    "    if demograph['batch_date'].dt.tz is not None \n",
    "    else demograph['batch_date'].dt.tz_localize('Asia/Calcutta')\n",
    ")\n",
    "\n",
    "# Sort the action DataFrame by 'customer_code' and 'send_timestamp'\n",
    "action = action.sort_values(by=['customer_code', 'send_timestamp'])\n",
    "\n",
    "# Sort the demographics DataFrame by 'CUSTOMER_CODE' and 'batch_date'\n",
    "demograph = demograph.sort_values(by=['CUSTOMER_CODE', 'batch_date'])\n",
    "\n",
    "# Ensure both DataFrames are sorted by their respective timestamp columns\n",
    "action = action.sort_values(by='send_timestamp')\n",
    "demograph = demograph.sort_values(by='batch_date')\n",
    "\n",
    "# Perform the merge using merge_asof\n",
    "# This merges the action and demographics DataFrames based on the closest previous timestamp\n",
    "merged_df = pd.merge_asof(\n",
    "    action,  # Left DataFrame (action history)\n",
    "    demograph,  # Right DataFrame (demographics)\n",
    "    left_on='send_timestamp',  # Key column in the left DataFrame\n",
    "    right_on='batch_date',  # Key column in the right DataFrame\n",
    "    left_by='customer_code',  # Group by 'customer_code' in the left DataFrame\n",
    "    right_by='CUSTOMER_CODE',  # Group by 'CUSTOMER_CODE' in the right DataFrame\n",
    "    direction='backward'  # Match the closest previous row in the right DataFrame\n",
    ")\n",
    "\n",
    "# Ensure all customer codes from the demographics DataFrame appear in the merged DataFrame\n",
    "# Perform a left join with the demographics DataFrame to include all customer codes\n",
    "all_customers_df = demograph[['CUSTOMER_CODE']].drop_duplicates().rename(columns={'CUSTOMER_CODE': 'customer_code'})\n",
    "merged_df = pd.merge(all_customers_df, merged_df, on='customer_code', how='left')\n",
    "\n",
    "# Print the merged DataFrame\n",
    "print(\"Merged DataFrame:\\n\", merged_df)"
   ]
  },
  {
   "cell_type": "code",
   "execution_count": null,
   "metadata": {},
   "outputs": [],
   "source": [
    "# One-hot encode the 'send_timestamp_slot' column\n",
    "merged_df = pd.get_dummies(merged_df, columns=['send_timestamp_slot'], prefix_sep='_', dtype=int)\n",
    "merged_df.drop(columns=['open_timestamp', 'open_timestamp_slot', 'CUSTOMER_CODE', 'batch_date', 'Unnamed: 0'], inplace=True)\n",
    "merged_df.drop(columns=['send_timestamp'], inplace=True)\n",
    "merged_df = merged_df.groupby('customer_code').mean().reset_index()"
   ]
  },
  {
   "cell_type": "code",
   "execution_count": null,
   "metadata": {},
   "outputs": [],
   "source": [
    "test_customers = pd.read_csv('test_customers.csv')"
   ]
  },
  {
   "cell_type": "code",
   "execution_count": null,
   "metadata": {},
   "outputs": [],
   "source": [
    "cdna = pd.read_csv('test_cdna_data.csv')\n",
    "test_action_history = pd.read_csv('test_action_history.csv')"
   ]
  },
  {
   "cell_type": "code",
   "execution_count": null,
   "metadata": {},
   "outputs": [],
   "source": [
    "common_values = set(merged_df['customer_code']).intersection(set(test_customers['CUSTOMER_CODE']))\n",
    "print(f\"common: {len(common_values)}\")"
   ]
  },
  {
   "cell_type": "code",
   "execution_count": null,
   "metadata": {},
   "outputs": [],
   "source": [
    "# Fill missing values for numeric columns only\n",
    "numeric_columns = merged_df.select_dtypes(include=['number']).columns\n",
    "merged_df[numeric_columns] = merged_df[numeric_columns].fillna(merged_df[numeric_columns].mean())\n",
    "\n",
    "# Fill missing values for non-numeric columns (e.g., datetime, categorical)\n",
    "non_numeric_columns = merged_df.select_dtypes(exclude=['number']).columns\n",
    "merged_df[non_numeric_columns] = merged_df[non_numeric_columns].fillna('NA')  # Use 'NA' or any placeholder\n",
    "\n",
    "# Print the updated DataFrame\n",
    "print(\"Merged DataFrame after filling missing values:\\n\", merged_df)"
   ]
  },
  {
   "cell_type": "code",
   "execution_count": null,
   "metadata": {},
   "outputs": [],
   "source": [
    "# Step 1: Remove rows from merged_df where customer_code is not in test_customers\n",
    "merged_df = merged_df[merged_df['customer_code'].isin(test_customers['CUSTOMER_CODE'])]\n",
    "\n",
    "# Step 2: Reorder merged_df according to the order of CUSTOMER_CODES in test_customers\n",
    "# Create a mapping of CUSTOMER_CODE to their order in test_customers\n",
    "order_mapping = {code: idx for idx, code in enumerate(test_customers['CUSTOMER_CODE'])}\n",
    "merged_df['order'] = merged_df['customer_code'].map(order_mapping)\n",
    "\n",
    "# Sort merged_df based on the order\n",
    "merged_df = merged_df.sort_values(by='order').drop(columns=['order'])\n",
    "\n",
    "# Step 3: Add missing customer_codes from test_customers and fill with NA and column means\n",
    "# Create a DataFrame with all CUSTOMER_CODES from test_customers\n",
    "aligned_df = pd.DataFrame({'customer_code': test_customers['CUSTOMER_CODE']})\n",
    "\n",
    "# Merge with merged_df to align rows according to test_customers\n",
    "aligned_df = aligned_df.merge(merged_df, on='customer_code', how='left')\n",
    "\n",
    "# Fill missing numeric columns with their mean\n",
    "numeric_columns = merged_df.select_dtypes(include=['number']).columns\n",
    "mean_values = merged_df[numeric_columns].mean()\n",
    "aligned_df[numeric_columns] = aligned_df[numeric_columns].fillna(mean_values)\n",
    "\n",
    "# Fill missing non-numeric columns with a placeholder (e.g., 'NA')\n",
    "non_numeric_columns = merged_df.select_dtypes(exclude=['number']).columns\n",
    "aligned_df[non_numeric_columns] = aligned_df[non_numeric_columns].fillna('NA')"
   ]
  },
  {
   "cell_type": "code",
   "execution_count": null,
   "metadata": {},
   "outputs": [],
   "source": [
    "aligned_df.drop(columns=['customer_code'], inplace=True)"
   ]
  },
  {
   "cell_type": "markdown",
   "metadata": {},
   "source": [
    "loading Base and Meta model for prediction"
   ]
  },
  {
   "cell_type": "code",
   "execution_count": null,
   "metadata": {},
   "outputs": [],
   "source": [
    "meta_model = joblib.load('meta_model.pkl')\n",
    "base_models = joblib.load('base_model.pkl')"
   ]
  },
  {
   "cell_type": "code",
   "execution_count": null,
   "metadata": {},
   "outputs": [],
   "source": [
    "def predict_time_slots(base_model, meta_model, input_data):\n",
    "    \"\"\"\n",
    "    Predicts the ranked time slots for a single input row using a stacking model.\n",
    "\n",
    "    Parameters:\n",
    "    base_model (sklearn model): Trained base regression model.\n",
    "    meta_model (sklearn model): Trained meta regression model.\n",
    "    input_data (array-like): Single row of input data (features).\n",
    "\n",
    "    Returns:\n",
    "    dict: Predicted probabilities and ranked slots.\n",
    "    \"\"\"\n",
    "    # Ensure input_data is a 2D array for prediction\n",
    "    input_array = np.array(input_data).reshape(1, -1)\n",
    "\n",
    "    # Step 1: Get base model prediction for the input row\n",
    "    base_prediction = base_model.predict(input_array).reshape(1, -1)\n",
    "\n",
    "    # Step 2: Combine original input with base prediction for meta-model\n",
    "    stacked_input = np.hstack((input_array, base_prediction))\n",
    "\n",
    "    # Step 3: Predict probabilities using the meta-model\n",
    "    predicted_probs = meta_model.predict(stacked_input).reshape(1, -1)\n",
    "\n",
    "    # Step 4: Rank slots by predicted probabilities\n",
    "    slot_names = [f\"slot_{i+1}\" for i in range(predicted_probs.shape[1])]\n",
    "    sorted_slots = sorted(zip(slot_names, predicted_probs[0]), key=lambda x: -x[1])\n",
    "\n",
    "    # Extract ranked slots and probabilities\n",
    "    ranked_slots = [slot for slot, _ in sorted_slots]\n",
    "    ranked_probs = [prob for _, prob in sorted_slots]\n",
    "\n",
    "    return {\n",
    "        \"ranked_slots\": ranked_slots,\n",
    "        \"ranked_probs\": ranked_probs\n",
    "    }\n",
    "\n"
   ]
  },
  {
   "cell_type": "markdown",
   "metadata": {},
   "source": [
    "Making Predictions on Test Data and Saving Results\n",
    "This cell performs the following steps:\n",
    "\n",
    "1) Initialize Predictions List: A list (predictions) is initialized to store the prediction results for each customer.\n",
    "\n",
    "2) Load Preprocessed Test Data: The preprocessed test data (test_data_finally_preprocessed.csv) is loaded into the merged_df DataFrame.\n",
    "\n",
    "3) Iterate Through Each Row: For each row in the DataFrame, the input data is prepared, and predictions are made using the predict_time_slots function.\n",
    "\n",
    "4) Store Predictions: The predictions are stored in the predictions list.\n",
    "\n",
    "5) Save Predictions to CSV: The predictions are converted to a DataFrame and saved to a CSV file (predicted_slots.csv)."
   ]
  },
  {
   "cell_type": "code",
   "execution_count": null,
   "metadata": {},
   "outputs": [],
   "source": [
    "predictions = []\n",
    "\n",
    "merged_df = pd.read_csv('test_data_finally_preprocessed.csv')\n",
    "# Iterate through each row in merged_df\n",
    "for index, row in merged_df.iterrows():\n",
    "    # Extract input data (excluding the customer_code column if present)\n",
    "    input_data = row.drop('customer_code').values if 'customer_code' in merged_df.columns else row.values\n",
    "\n",
    "    # Predict ranked slots for the current row\n",
    "    result = predict_time_slots(base_models, meta_model, input_data)\n",
    "\n",
    "    # Append the result to the predictions list\n",
    "    predictions.append({\n",
    "        'customer_code': row['customer_code'] if 'customer_code' in merged_df.columns else index,\n",
    "        'predicted_slots_order': result['ranked_slots']\n",
    "    })\n",
    "\n",
    "# Convert predictions to a DataFrame\n",
    "predictions_df = pd.DataFrame(predictions)\n",
    "\n",
    "# Save predictions to a CSV file\n",
    "predictions_df.to_csv('predicted_slots.csv', index=False)\n",
    "\n",
    "print(\"Predictions saved to 'predicted_slots.csv'\")"
   ]
  },
  {
   "cell_type": "markdown",
   "metadata": {},
   "source": [
    "Slots csv preprocessing"
   ]
  },
  {
   "cell_type": "code",
   "execution_count": null,
   "metadata": {},
   "outputs": [],
   "source": [
    "predictions_df['predicted_slots_order'] = predictions_df['predicted_slots_order'].str.replace(\"'\", \"\")\n",
    "test_customers = pd.read_csv('test_customers.csv')\n",
    "customer_codes = test_customers['CUSTOMER_CODE']\n",
    "predictions_df['customer_code'] = customer_codes\n",
    "predictions_df.to_csv('predicted_slots_final_v3.csv', index=False)"
   ]
  }
 ],
 "metadata": {
  "kernelspec": {
   "display_name": ".venv",
   "language": "python",
   "name": "python3"
  },
  "language_info": {
   "codemirror_mode": {
    "name": "ipython",
    "version": 3
   },
   "file_extension": ".py",
   "mimetype": "text/x-python",
   "name": "python",
   "nbconvert_exporter": "python",
   "pygments_lexer": "ipython3",
   "version": "3.10.11"
  }
 },
 "nbformat": 4,
 "nbformat_minor": 2
}
